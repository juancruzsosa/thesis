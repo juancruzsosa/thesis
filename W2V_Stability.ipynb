{
 "cells": [
  {
   "cell_type": "code",
   "execution_count": 1,
   "metadata": {},
   "outputs": [],
   "source": [
    "%load_ext autoreload\n",
    "%autoreload 2"
   ]
  },
  {
   "cell_type": "code",
   "execution_count": 2,
   "metadata": {
    "id": "Dpu4wI_XPAZ2"
   },
   "outputs": [],
   "source": [
    "from pathlib import Path\n",
    "from multiprocessing import cpu_count\n",
    "from itertools import islice\n",
    "\n",
    "import pandas as pd\n",
    "import numpy as np\n",
    "\n",
    "import gensim\n",
    "from gensim.models import Word2Vec\n",
    "\n",
    "from scipy.linalg import norm\n",
    "from sklearn.decomposition import PCA\n",
    "\n",
    "from tqdm.contrib.concurrent import process_map\n",
    "\n",
    "from matplotlib import pyplot as plt\n",
    "\n",
    "from transform import *\n",
    "from callbacks import *\n",
    "from utils import *\n",
    "\n",
    "np.random.seed(2021)"
   ]
  },
  {
   "cell_type": "code",
   "execution_count": 3,
   "metadata": {
    "id": "BclFY9EQP9qO"
   },
   "outputs": [],
   "source": [
    "!mkdir -p data"
   ]
  },
  {
   "cell_type": "code",
   "execution_count": 4,
   "metadata": {
    "colab": {
     "base_uri": "https://localhost:8080/"
    },
    "id": "XSh0msGFdoi5",
    "outputId": "b17186fb-a7b9-4734-ac01-5e365c7e0eb5"
   },
   "outputs": [],
   "source": [
    "!python3 -m wikiextractor.WikiExtractor -h >/dev/null 2>&1 || pip install --user wikiextractor"
   ]
  },
  {
   "cell_type": "code",
   "execution_count": 5,
   "metadata": {
    "colab": {
     "base_uri": "https://localhost:8080/"
    },
    "id": "sYAvYfEidM9O",
    "outputId": "c0b29a88-78a9-4bd1-ee1d-db091eb38edf"
   },
   "outputs": [
    {
     "name": "stdout",
     "output_type": "stream",
     "text": [
      "<mediawiki xmlns=\"http://www.mediawiki.org/xml/export-0.3/\" xmlns:xsi=\"http://www.w3.org/2001/XMLSchema-instance\" xsi:schemaLocation=\"http://www.mediawiki.org/xml/export-0.3/ http://www.mediawiki.org/xml/export-0.3.xsd\" version=\"0.3\" xml:lang=\"en\">\n",
      "  <siteinfo>\n",
      "    <sitename>Wikipedia</sitename>\n",
      "    <base>http://en.wikipedia.org/wiki/Main_Page</base>\n",
      "    <generator>MediaWiki 1.6alpha</generator>\n",
      "    <case>first-letter</case>\n",
      "      <namespaces>\n",
      "      <namespace key=\"-2\">Media</namespace>\n",
      "      <namespace key=\"-1\">Special</namespace>\n",
      "      <namespace key=\"0\" />\n"
     ]
    }
   ],
   "source": [
    "DS_ROOT = Path(\"data\".rstrip(\"/\"))\n",
    "![ -f \"{DS_ROOT}/enwik8.zip\" ] || [ -f \"{DS_ROOT}/enwik8\" ] || wget -P \"{DS_ROOT}\" http://cs.fit.edu/~mmahoney/compression/enwik8.zip\n",
    "![ -f \"{DS_ROOT}/enwik8.zip\" ] && unzip -o -d \"{DS_ROOT}\" \"{DS_ROOT}/enwik8.zip\" && rm \"{DS_ROOT}/enwik8.zip\"\n",
    "!head -n 10 \"{DS_ROOT}/enwik8\"\n",
    "![ -f \"{DS_ROOT}/enwik8_clean\" ] || \\\n",
    " ( echo \"Extracting and cleaning {DS_ROOT}/enwik8 to {DS_ROOT}/enwik8_clean...\" && \\\n",
    "   python3 -m wikiextractor.WikiExtractor \"{DS_ROOT}/enwik8\" --processes 8 -q -o - \\\n",
    "    | sed \"/^\\s*\\$/d\" \\\n",
    "    | grep -v \"^<doc id=\" \\\n",
    "    | grep -v \"</doc>\\$\" \\\n",
    "    > \"{DS_ROOT}/enwik8_clean\" && \\\n",
    "    echo \"Succesfully extracted and cleaned {DS_ROOT}/enwik8 to {DS_ROOT}/enwik8_clean\" )"
   ]
  },
  {
   "cell_type": "code",
   "execution_count": 6,
   "metadata": {
    "colab": {
     "base_uri": "https://localhost:8080/"
    },
    "id": "TQzz_MKSdwB7",
    "outputId": "40c76f51-ffe2-4158-8954-7e88bc4cf706"
   },
   "outputs": [
    {
     "name": "stdout",
     "output_type": "stream",
     "text": [
      "AaA\n",
      "AlgeriA\n",
      "AmericanSamoa\n",
      "AppliedEthics\n",
      "AccessibleComputing\n",
      "AdA\n",
      "Anarchism\n",
      "Anarchism originated as a term of abuse first used against early working class radicals including the Diggers of the English Revolution and the \"sans-culottes\" of the French Revolution. Whilst the term is still used in a pejorative way to describe \"any act that used violent means to destroy the organization of society\", it has also been taken up as a positive label by self-defined anarchists.\n",
      "The word anarchism is derived from the Greek \"\" (\"without archons (ruler, chief, king)\"). Anarchism as a political philosophy, is the belief that \"rulers\" are unnecessary and should be abolished, although there are differing interpretations of what this means. Anarchism also refers to related social movements) that advocate the elimination of authoritarian institutions, particularly the state. The word \"anarchy,\" as most anarchists use it, does not imply chaos, nihilism, or anomie, but rather a harmonious anti-authoritarian society. In place of what are regarded as authoritarian political structures and coercive economic institutions, anarchists advocate social relations based upon voluntary association of autonomous individuals, mutual aid, and self-governance. \n",
      "While anarchism is most easily defined by what it is against, anarchists also offer positive visions of what they believe to be a truly free society. However, ideas about how an anarchist society might work vary considerably, especially with respect to economics; there is also disagreement about how a free society might be brought about. \n"
     ]
    }
   ],
   "source": [
    "!head -n 10 \"{DS_ROOT}/enwik8_clean\""
   ]
  },
  {
   "cell_type": "code",
   "execution_count": 7,
   "metadata": {
    "colab": {
     "base_uri": "https://localhost:8080/"
    },
    "id": "pSa2t2ZQe_Cr",
    "outputId": "23411e65-b573-497f-86cc-57b3cdad561f"
   },
   "outputs": [
    {
     "name": "stdout",
     "output_type": "stream",
     "text": [
      "/usr/lib/python3.9/runpy.py:127: RuntimeWarning: 'nltk.downloader' found in sys.modules after import of package 'nltk', but prior to execution of 'nltk.downloader'; this may result in unpredictable behaviour\n",
      "  warn(RuntimeWarning(msg))\n",
      "[nltk_data] Downloading package punkt to /home/chino/nltk_data...\n",
      "[nltk_data]   Package punkt is already up-to-date!\n"
     ]
    }
   ],
   "source": [
    "!python -m nltk.downloader punkt"
   ]
  },
  {
   "cell_type": "code",
   "execution_count": 8,
   "metadata": {
    "id": "vn_5xOl6PbQe"
   },
   "outputs": [],
   "source": [
    "sentences = load_sentences(DS_ROOT/'enwik8_clean')"
   ]
  },
  {
   "cell_type": "code",
   "execution_count": 9,
   "metadata": {
    "id": "AuXOevz3gPfb"
   },
   "outputs": [],
   "source": [
    "transform = TextTransform(pre_process=None)"
   ]
  },
  {
   "cell_type": "code",
   "execution_count": 10,
   "metadata": {
    "id": "72xqUgojj12u"
   },
   "outputs": [],
   "source": [
    "indices = np.random.permutation(range(len(sentences)))"
   ]
  },
  {
   "cell_type": "code",
   "execution_count": 11,
   "metadata": {
    "id": "RnVt5D9uTk7h"
   },
   "outputs": [],
   "source": [
    "train_sentences = [sentences[i] for i in indices[:10_000]]"
   ]
  },
  {
   "cell_type": "code",
   "execution_count": 12,
   "metadata": {
    "colab": {
     "base_uri": "https://localhost:8080/",
     "height": 49,
     "referenced_widgets": [
      "0d47d99c2a0b41398a57f38c00afe402",
      "851ff1c617664031b6cdc293dcd404d6",
      "16f11d47355447019ce4c6543377a53b",
      "2a73fe08858e498d926d95a35cb54edb",
      "0abc52a711964f5794670e75fcccb851",
      "978165996112424396688b9197daf8ba",
      "8d3c4ce607f7471c9f48cfc3edec2831",
      "60821916b84b4c6db94f79c09052cfac",
      "5ce43139361840c88105ca1450d819ab",
      "12e4dfab66d24434858e2fdcc796cd60",
      "41997e0ea411444d9f63d26302c38a10"
     ]
    },
    "id": "QYiya25Ig80S",
    "outputId": "33273c4b-bc41-4256-8d13-ece11a8b876b"
   },
   "outputs": [
    {
     "data": {
      "application/vnd.jupyter.widget-view+json": {
       "model_id": "6676b010e6594af185c83ce274beae8a",
       "version_major": 2,
       "version_minor": 0
      },
      "text/plain": [
       "  0%|          | 0/10000 [00:00<?, ?it/s]"
      ]
     },
     "metadata": {},
     "output_type": "display_data"
    }
   ],
   "source": [
    "train_sentences = process_map(transform, train_sentences, max_workers=cpu_count(), chunksize=10000)"
   ]
  },
  {
   "cell_type": "code",
   "execution_count": 13,
   "metadata": {
    "id": "g7By0lfVbiPR"
   },
   "outputs": [],
   "source": [
    "lens = [len(x) for x in train_sentences]"
   ]
  },
  {
   "cell_type": "code",
   "execution_count": 14,
   "metadata": {
    "colab": {
     "base_uri": "https://localhost:8080/",
     "height": 281
    },
    "id": "Xd3x48L1bwNJ",
    "outputId": "54e79b8b-6294-4c00-d920-98b7abd50686"
   },
   "outputs": [
    {
     "data": {
      "image/png": "[encoded data removed]",
      "text/plain": [
       "<Figure size 432x288 with 1 Axes>"
      ]
     },
     "metadata": {
      "needs_background": "light"
     },
     "output_type": "display_data"
    }
   ],
   "source": [
    "pd.Series(lens).plot.hist(bins=100)\n",
    "plt.title(\"Sentence length distribution\")\n",
    "plt.show()"
   ]
  },
  {
   "cell_type": "code",
   "execution_count": 19,
   "metadata": {
    "colab": {
     "base_uri": "https://localhost:8080/",
     "height": 101,
     "referenced_widgets": [
      "42f2a8df8fe245a68b06fbb9c33f5172",
      "7ec0d814787a48f48d11250493fd29f5",
      "673d1fc1158245b3808e8f3c7627ca11",
      "3e525903190c483e941066c931f5a7fc",
      "6ae270f2c28a4e798947aa9912339966",
      "13ba07bcad414d419612fb47f3683751",
      "ceed9d60422843dab29d0755d91b955f",
      "49b14e89abfd48b09f0b1873faef2364",
      "6f0b2c5caae440b9b45d3ee351be1454",
      "02f2e700f8784a21b80b3e9b2a313e4d",
      "a4355263abcd4a979fce3d51c0041d47"
     ]
    },
    "id": "KDFOgJYGPGJX",
    "outputId": "b04feedc-f876-43f4-9364-47a42d1738a9"
   },
   "outputs": [
    {
     "data": {
      "application/vnd.jupyter.widget-view+json": {
       "model_id": "240b15242d3444c29c56a335d16f34f4",
       "version_major": 2,
       "version_minor": 0
      },
      "text/plain": [
       "  0%|          | 0/50 [00:00<?, ?epoch/s]"
      ]
     },
     "metadata": {},
     "output_type": "display_data"
    }
   ],
   "source": [
    "centroid_callback = CentroidCalculation()\n",
    "hparams_callback = HyperParamLogger(alpha=lambda model: model.min_alpha_yet_reached)\n",
    "\n",
    "w2v = Word2Vec(sentences=train_sentences,\n",
    "               workers=cpu_count(),\n",
    "               alpha=0.025,\n",
    "               min_alpha=0.01,\n",
    "               size=100,\n",
    "               window=5,\n",
    "               min_count=5,\n",
    "               sg=1,\n",
    "               negative=5,\n",
    "               callbacks=[centroid_callback,\n",
    "                          hparams_callback,\n",
    "                          EpochLogger()],\n",
    "               iter=50)"
   ]
  },
  {
   "cell_type": "code",
   "execution_count": 16,
   "metadata": {},
   "outputs": [],
   "source": [
    "def show_centroid_shift(centroids, epoch_split=3):\n",
    "    epochs = centroids.shape[0]-1\n",
    "    shift_norm_centroid_hist = rowise_distance(centroids[1:],centroids[:-1])\n",
    "    shift_sim_centroid_hist = rowise_cosine_sim(centroids[1:],centroids[:-1])\n",
    "\n",
    "    fig, axs = plt.subplots(figsize=(20, 10), ncols=2, nrows=2)\n",
    "\n",
    "    axs[0][0].set_title(f\"First {epoch_split} epochs\")\n",
    "    axs[0][0].set_ylabel(\"Distance\")\n",
    "    axs[0][0].plot(range(1,epoch_split+1),shift_norm_centroid_hist[:epoch_split])\n",
    "    axs[0][1].set_ylabel(\"Distance\")\n",
    "    axs[0][1].set_title(f\"Last {epochs-epoch_split} epochs\")\n",
    "    axs[0][1].plot(range(epoch_split+1,epochs+1),shift_norm_centroid_hist[epoch_split:])\n",
    "\n",
    "\n",
    "    axs[1][0].set_title(f\"First {epoch_split} epochs\")\n",
    "    axs[1][0].set_ylabel(\"Similarity\")\n",
    "    axs[1][0].plot(range(1,epoch_split+1),shift_sim_centroid_hist[:epoch_split])\n",
    "    axs[1][1].set_ylabel(\"Similarity\")\n",
    "    axs[1][1].set_title(f\"Last {epochs-epoch_split} epochs\")\n",
    "    axs[1][1].plot(range(epoch_split+1,epochs+1),shift_sim_centroid_hist[epoch_split:])"
   ]
  },
  {
   "cell_type": "code",
   "execution_count": 17,
   "metadata": {
    "colab": {
     "base_uri": "https://localhost:8080/",
     "height": 624
    },
    "id": "VvmHRX6omVnL",
    "outputId": "a9fc934e-a544-4128-cd79-04fd0bc4da83"
   },
   "outputs": [
    {
     "data": {
      "image/png": "[encoded data removed]",
      "text/plain": [
       "<Figure size 1440x720 with 4 Axes>"
      ]
     },
     "metadata": {
      "needs_background": "light"
     },
     "output_type": "display_data"
    }
   ],
   "source": [
    "show_centroid_shift(centroid_callback.centroids)\n",
    "plt.show()"
   ]
  }
 ],
 "metadata": {
  "colab": {
   "collapsed_sections": [],
   "name": "W2V Stability.ipynb",
   "provenance": []
  },
  "kernelspec": {
   "display_name": "Python 3 (ipykernel)",
   "language": "python",
   "name": "python3"
  },
  "language_info": {
   "codemirror_mode": {
    "name": "ipython",
    "version": 3
   },
   "file_extension": ".py",
   "mimetype": "text/x-python",
   "name": "python",
   "nbconvert_exporter": "python",
   "pygments_lexer": "ipython3",
   "version": "3.9.7"
  },
  "widgets": {
   "application/vnd.jupyter.widget-state+json": {
    "state": {
     "0319e92418714f6e9b374336ac739cb5": {
      "model_module": "@jupyter-widgets/controls",
      "model_module_version": "1.5.0",
      "model_name": "DescriptionStyleModel",
      "state": {
       "description_width": ""
      }
     },
     "240b15242d3444c29c56a335d16f34f4": {
      "model_module": "@jupyter-widgets/controls",
      "model_module_version": "1.5.0",
      "model_name": "HBoxModel",
      "state": {
       "children": [
        "IPY_MODEL_a02bd23a760643f98040439fdd7c843e",
        "IPY_MODEL_f7b275f8fb2043e49b57e18136624c3b",
        "IPY_MODEL_cd370bd24b4e4dea924d08b6b5bc2cd8"
       ],
       "layout": "IPY_MODEL_59b0dbba3ed243aaac76c2f726ac1c2d"
      }
     },
     "2e289695f2d14908adbf8148ae6f2f98": {
      "model_module": "@jupyter-widgets/controls",
      "model_module_version": "1.5.0",
      "model_name": "FloatProgressModel",
      "state": {
       "bar_style": "success",
       "layout": "IPY_MODEL_7b1b66bfec184593943c505887431fb4",
       "max": 10000,
       "style": "IPY_MODEL_eb62d3e9a9b74cd1bfce12b003356057",
       "value": 10000
      }
     },
     "2ff7ef5542ee47dcbee1de9965d3bedd": {
      "model_module": "@jupyter-widgets/base",
      "model_module_version": "1.2.0",
      "model_name": "LayoutModel",
      "state": {}
     },
     "41bde48d6f4c49a8ace68d1800b922e9": {
      "model_module": "@jupyter-widgets/controls",
      "model_module_version": "1.5.0",
      "model_name": "HTMLModel",
      "state": {
       "layout": "IPY_MODEL_501fd148f9e5422884647d19b594ca99",
       "style": "IPY_MODEL_a48252e71a1243ca9509429a6556968c",
       "value": " 6/50 [00:05&lt;00:39,  1.11epoch/s, alpha=0.0232]"
      }
     },
     "4f934c03ff3648a0b8b4cb042d6cfb29": {
      "model_module": "@jupyter-widgets/controls",
      "model_module_version": "1.5.0",
      "model_name": "DescriptionStyleModel",
      "state": {
       "description_width": ""
      }
     },
     "501fd148f9e5422884647d19b594ca99": {
      "model_module": "@jupyter-widgets/base",
      "model_module_version": "1.2.0",
      "model_name": "LayoutModel",
      "state": {}
     },
     "50e02af5a87d483990c5fa83b45a3b71": {
      "model_module": "@jupyter-widgets/controls",
      "model_module_version": "1.5.0",
      "model_name": "ProgressStyleModel",
      "state": {
       "description_width": ""
      }
     },
     "5557adc85333475eacca2027ee160ec6": {
      "model_module": "@jupyter-widgets/base",
      "model_module_version": "1.2.0",
      "model_name": "LayoutModel",
      "state": {}
     },
     "59b0dbba3ed243aaac76c2f726ac1c2d": {
      "model_module": "@jupyter-widgets/base",
      "model_module_version": "1.2.0",
      "model_name": "LayoutModel",
      "state": {}
     },
     "6676b010e6594af185c83ce274beae8a": {
      "model_module": "@jupyter-widgets/controls",
      "model_module_version": "1.5.0",
      "model_name": "HBoxModel",
      "state": {
       "children": [
        "IPY_MODEL_db5aebf7f74f4993a9dc66f5de37cd28",
        "IPY_MODEL_2e289695f2d14908adbf8148ae6f2f98",
        "IPY_MODEL_af99cc05c8bf453f934d961638cabaf6"
       ],
       "layout": "IPY_MODEL_8664331b9a8541409a35fdf7596fd09f"
      }
     },
     "673bb3de44164532af64509fe361b052": {
      "model_module": "@jupyter-widgets/base",
      "model_module_version": "1.2.0",
      "model_name": "LayoutModel",
      "state": {}
     },
     "6f3badb43d254bd2931b48cf046af149": {
      "model_module": "@jupyter-widgets/base",
      "model_module_version": "1.2.0",
      "model_name": "LayoutModel",
      "state": {}
     },
     "71b2e7abb10940e1ade86547004d7838": {
      "model_module": "@jupyter-widgets/controls",
      "model_module_version": "1.5.0",
      "model_name": "FloatProgressModel",
      "state": {
       "bar_style": "success",
       "layout": "IPY_MODEL_b5cfd6348b58406686d7174277f3bbc0",
       "max": 50,
       "style": "IPY_MODEL_50e02af5a87d483990c5fa83b45a3b71",
       "value": 50
      }
     },
     "7a86bfe6980a4891bb7b0188dec0b397": {
      "model_module": "@jupyter-widgets/controls",
      "model_module_version": "1.5.0",
      "model_name": "DescriptionStyleModel",
      "state": {
       "description_width": ""
      }
     },
     "7b1b66bfec184593943c505887431fb4": {
      "model_module": "@jupyter-widgets/base",
      "model_module_version": "1.2.0",
      "model_name": "LayoutModel",
      "state": {}
     },
     "7f33efa7fce94eda851e62dc3eeefe8d": {
      "model_module": "@jupyter-widgets/controls",
      "model_module_version": "1.5.0",
      "model_name": "HTMLModel",
      "state": {
       "layout": "IPY_MODEL_9f579bb783f64336a7e052804617e850",
       "style": "IPY_MODEL_4f934c03ff3648a0b8b4cb042d6cfb29",
       "value": "100%"
      }
     },
     "809e32a2562c4f9da8161cefcac97d85": {
      "model_module": "@jupyter-widgets/controls",
      "model_module_version": "1.5.0",
      "model_name": "DescriptionStyleModel",
      "state": {
       "description_width": ""
      }
     },
     "8664331b9a8541409a35fdf7596fd09f": {
      "model_module": "@jupyter-widgets/base",
      "model_module_version": "1.2.0",
      "model_name": "LayoutModel",
      "state": {}
     },
     "957057ba1eed49098015de1091c74e2f": {
      "model_module": "@jupyter-widgets/controls",
      "model_module_version": "1.5.0",
      "model_name": "DescriptionStyleModel",
      "state": {
       "description_width": ""
      }
     },
     "97f0f9c3edbe48a5b6ebf639f3662d5b": {
      "model_module": "@jupyter-widgets/base",
      "model_module_version": "1.2.0",
      "model_name": "LayoutModel",
      "state": {}
     },
     "99994f29d67c40cbbb0b21f4e204e69b": {
      "model_module": "@jupyter-widgets/controls",
      "model_module_version": "1.5.0",
      "model_name": "HBoxModel",
      "state": {
       "children": [
        "IPY_MODEL_dbcbde20c9be40a7a08f7e4e10c411de",
        "IPY_MODEL_d9e28d4f9db24e6d89719c31871d8a85",
        "IPY_MODEL_41bde48d6f4c49a8ace68d1800b922e9"
       ],
       "layout": "IPY_MODEL_f1e06292146c47c4972da92ccad904d3"
      }
     },
     "9f579bb783f64336a7e052804617e850": {
      "model_module": "@jupyter-widgets/base",
      "model_module_version": "1.2.0",
      "model_name": "LayoutModel",
      "state": {}
     },
     "a02bd23a760643f98040439fdd7c843e": {
      "model_module": "@jupyter-widgets/controls",
      "model_module_version": "1.5.0",
      "model_name": "HTMLModel",
      "state": {
       "layout": "IPY_MODEL_2ff7ef5542ee47dcbee1de9965d3bedd",
       "style": "IPY_MODEL_7a86bfe6980a4891bb7b0188dec0b397",
       "value": "100%"
      }
     },
     "a48252e71a1243ca9509429a6556968c": {
      "model_module": "@jupyter-widgets/controls",
      "model_module_version": "1.5.0",
      "model_name": "DescriptionStyleModel",
      "state": {
       "description_width": ""
      }
     },
     "a6f45559f6eb4fe49f8c5a1779d3b053": {
      "model_module": "@jupyter-widgets/controls",
      "model_module_version": "1.5.0",
      "model_name": "ProgressStyleModel",
      "state": {
       "description_width": ""
      }
     },
     "af99cc05c8bf453f934d961638cabaf6": {
      "model_module": "@jupyter-widgets/controls",
      "model_module_version": "1.5.0",
      "model_name": "HTMLModel",
      "state": {
       "layout": "IPY_MODEL_673bb3de44164532af64509fe361b052",
       "style": "IPY_MODEL_0319e92418714f6e9b374336ac739cb5",
       "value": " 10000/10000 [00:01&lt;00:00,  1.02s/it]"
      }
     },
     "b28ee57d2cb34375866563350a37f862": {
      "model_module": "@jupyter-widgets/base",
      "model_module_version": "1.2.0",
      "model_name": "LayoutModel",
      "state": {}
     },
     "b538bf83d18e40d8a377f3fcc9497a1e": {
      "model_module": "@jupyter-widgets/controls",
      "model_module_version": "1.5.0",
      "model_name": "DescriptionStyleModel",
      "state": {
       "description_width": ""
      }
     },
     "b5cfd6348b58406686d7174277f3bbc0": {
      "model_module": "@jupyter-widgets/base",
      "model_module_version": "1.2.0",
      "model_name": "LayoutModel",
      "state": {}
     },
     "bf73934aa2ca48a0add3a1afd9791561": {
      "model_module": "@jupyter-widgets/controls",
      "model_module_version": "1.5.0",
      "model_name": "HTMLModel",
      "state": {
       "layout": "IPY_MODEL_b28ee57d2cb34375866563350a37f862",
       "style": "IPY_MODEL_f6611113969f4c279beba9061cc8540d",
       "value": " 50/50 [00:07&lt;00:00,  7.15epoch/s, alpha=0.0103]"
      }
     },
     "c736e50b1acd4706a50786fc3c97fd06": {
      "model_module": "@jupyter-widgets/base",
      "model_module_version": "1.2.0",
      "model_name": "LayoutModel",
      "state": {}
     },
     "cad8d3dd3e504486a45f9f75184727ee": {
      "model_module": "@jupyter-widgets/controls",
      "model_module_version": "1.5.0",
      "model_name": "ProgressStyleModel",
      "state": {
       "description_width": ""
      }
     },
     "cd370bd24b4e4dea924d08b6b5bc2cd8": {
      "model_module": "@jupyter-widgets/controls",
      "model_module_version": "1.5.0",
      "model_name": "HTMLModel",
      "state": {
       "layout": "IPY_MODEL_e2fd9c4527c8499985030eb39449c4b9",
       "style": "IPY_MODEL_809e32a2562c4f9da8161cefcac97d85",
       "value": " 50/50 [00:07&lt;00:00,  7.14epoch/s, alpha=0.0103]"
      }
     },
     "d255bb5e31f84cb187bfcd13aa2a6a7a": {
      "model_module": "@jupyter-widgets/controls",
      "model_module_version": "1.5.0",
      "model_name": "HBoxModel",
      "state": {
       "children": [
        "IPY_MODEL_7f33efa7fce94eda851e62dc3eeefe8d",
        "IPY_MODEL_71b2e7abb10940e1ade86547004d7838",
        "IPY_MODEL_bf73934aa2ca48a0add3a1afd9791561"
       ],
       "layout": "IPY_MODEL_97f0f9c3edbe48a5b6ebf639f3662d5b"
      }
     },
     "d9e28d4f9db24e6d89719c31871d8a85": {
      "model_module": "@jupyter-widgets/controls",
      "model_module_version": "1.5.0",
      "model_name": "FloatProgressModel",
      "state": {
       "layout": "IPY_MODEL_5557adc85333475eacca2027ee160ec6",
       "max": 50,
       "style": "IPY_MODEL_cad8d3dd3e504486a45f9f75184727ee",
       "value": 6
      }
     },
     "db5aebf7f74f4993a9dc66f5de37cd28": {
      "model_module": "@jupyter-widgets/controls",
      "model_module_version": "1.5.0",
      "model_name": "HTMLModel",
      "state": {
       "layout": "IPY_MODEL_c736e50b1acd4706a50786fc3c97fd06",
       "style": "IPY_MODEL_b538bf83d18e40d8a377f3fcc9497a1e",
       "value": "100%"
      }
     },
     "dbcbde20c9be40a7a08f7e4e10c411de": {
      "model_module": "@jupyter-widgets/controls",
      "model_module_version": "1.5.0",
      "model_name": "HTMLModel",
      "state": {
       "layout": "IPY_MODEL_6f3badb43d254bd2931b48cf046af149",
       "style": "IPY_MODEL_957057ba1eed49098015de1091c74e2f",
       "value": " 12%"
      }
     },
     "e1839aaded8b4f56bea7cde9df271a62": {
      "model_module": "@jupyter-widgets/base",
      "model_module_version": "1.2.0",
      "model_name": "LayoutModel",
      "state": {}
     },
     "e2fd9c4527c8499985030eb39449c4b9": {
      "model_module": "@jupyter-widgets/base",
      "model_module_version": "1.2.0",
      "model_name": "LayoutModel",
      "state": {}
     },
     "eb62d3e9a9b74cd1bfce12b003356057": {
      "model_module": "@jupyter-widgets/controls",
      "model_module_version": "1.5.0",
      "model_name": "ProgressStyleModel",
      "state": {
       "description_width": ""
      }
     },
     "f1e06292146c47c4972da92ccad904d3": {
      "model_module": "@jupyter-widgets/base",
      "model_module_version": "1.2.0",
      "model_name": "LayoutModel",
      "state": {}
     },
     "f6611113969f4c279beba9061cc8540d": {
      "model_module": "@jupyter-widgets/controls",
      "model_module_version": "1.5.0",
      "model_name": "DescriptionStyleModel",
      "state": {
       "description_width": ""
      }
     },
     "f7b275f8fb2043e49b57e18136624c3b": {
      "model_module": "@jupyter-widgets/controls",
      "model_module_version": "1.5.0",
      "model_name": "FloatProgressModel",
      "state": {
       "bar_style": "success",
       "layout": "IPY_MODEL_e1839aaded8b4f56bea7cde9df271a62",
       "max": 50,
       "style": "IPY_MODEL_a6f45559f6eb4fe49f8c5a1779d3b053",
       "value": 50
      }
     }
    },
    "version_major": 2,
    "version_minor": 0
   }
  }
 },
 "nbformat": 4,
 "nbformat_minor": 4
}
