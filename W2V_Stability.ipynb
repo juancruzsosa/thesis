{
  "nbformat": 4,
  "nbformat_minor": 0,
  "metadata": {
    "colab": {
      "name": "W2V Stability.ipynb",
      "provenance": [],
      "collapsed_sections": []
    },
    "kernelspec": {
      "name": "python3",
      "display_name": "Python 3"
    },
    "language_info": {
      "name": "python"
    },
    "widgets": {
      "application/vnd.jupyter.widget-state+json": {
        "0d47d99c2a0b41398a57f38c00afe402": {
          "model_module": "@jupyter-widgets/controls",
          "model_name": "HBoxModel",
          "model_module_version": "1.5.0",
          "state": {
            "_view_name": "HBoxView",
            "_dom_classes": [],
            "_model_name": "HBoxModel",
            "_view_module": "@jupyter-widgets/controls",
            "_model_module_version": "1.5.0",
            "_view_count": null,
            "_view_module_version": "1.5.0",
            "box_style": "",
            "layout": "IPY_MODEL_851ff1c617664031b6cdc293dcd404d6",
            "_model_module": "@jupyter-widgets/controls",
            "children": [
              "IPY_MODEL_16f11d47355447019ce4c6543377a53b",
              "IPY_MODEL_2a73fe08858e498d926d95a35cb54edb",
              "IPY_MODEL_0abc52a711964f5794670e75fcccb851"
            ]
          }
        },
        "851ff1c617664031b6cdc293dcd404d6": {
          "model_module": "@jupyter-widgets/base",
          "model_name": "LayoutModel",
          "model_module_version": "1.2.0",
          "state": {
            "_view_name": "LayoutView",
            "grid_template_rows": null,
            "right": null,
            "justify_content": null,
            "_view_module": "@jupyter-widgets/base",
            "overflow": null,
            "_model_module_version": "1.2.0",
            "_view_count": null,
            "flex_flow": null,
            "width": null,
            "min_width": null,
            "border": null,
            "align_items": null,
            "bottom": null,
            "_model_module": "@jupyter-widgets/base",
            "top": null,
            "grid_column": null,
            "overflow_y": null,
            "overflow_x": null,
            "grid_auto_flow": null,
            "grid_area": null,
            "grid_template_columns": null,
            "flex": null,
            "_model_name": "LayoutModel",
            "justify_items": null,
            "grid_row": null,
            "max_height": null,
            "align_content": null,
            "visibility": null,
            "align_self": null,
            "height": null,
            "min_height": null,
            "padding": null,
            "grid_auto_rows": null,
            "grid_gap": null,
            "max_width": null,
            "order": null,
            "_view_module_version": "1.2.0",
            "grid_template_areas": null,
            "object_position": null,
            "object_fit": null,
            "grid_auto_columns": null,
            "margin": null,
            "display": null,
            "left": null
          }
        },
        "16f11d47355447019ce4c6543377a53b": {
          "model_module": "@jupyter-widgets/controls",
          "model_name": "HTMLModel",
          "model_module_version": "1.5.0",
          "state": {
            "_view_name": "HTMLView",
            "style": "IPY_MODEL_978165996112424396688b9197daf8ba",
            "_dom_classes": [],
            "description": "",
            "_model_name": "HTMLModel",
            "placeholder": "​",
            "_view_module": "@jupyter-widgets/controls",
            "_model_module_version": "1.5.0",
            "value": "100%",
            "_view_count": null,
            "_view_module_version": "1.5.0",
            "description_tooltip": null,
            "_model_module": "@jupyter-widgets/controls",
            "layout": "IPY_MODEL_8d3c4ce607f7471c9f48cfc3edec2831"
          }
        },
        "2a73fe08858e498d926d95a35cb54edb": {
          "model_module": "@jupyter-widgets/controls",
          "model_name": "FloatProgressModel",
          "model_module_version": "1.5.0",
          "state": {
            "_view_name": "ProgressView",
            "style": "IPY_MODEL_60821916b84b4c6db94f79c09052cfac",
            "_dom_classes": [],
            "description": "",
            "_model_name": "FloatProgressModel",
            "bar_style": "success",
            "max": 10000,
            "_view_module": "@jupyter-widgets/controls",
            "_model_module_version": "1.5.0",
            "value": 10000,
            "_view_count": null,
            "_view_module_version": "1.5.0",
            "orientation": "horizontal",
            "min": 0,
            "description_tooltip": null,
            "_model_module": "@jupyter-widgets/controls",
            "layout": "IPY_MODEL_5ce43139361840c88105ca1450d819ab"
          }
        },
        "0abc52a711964f5794670e75fcccb851": {
          "model_module": "@jupyter-widgets/controls",
          "model_name": "HTMLModel",
          "model_module_version": "1.5.0",
          "state": {
            "_view_name": "HTMLView",
            "style": "IPY_MODEL_12e4dfab66d24434858e2fdcc796cd60",
            "_dom_classes": [],
            "description": "",
            "_model_name": "HTMLModel",
            "placeholder": "​",
            "_view_module": "@jupyter-widgets/controls",
            "_model_module_version": "1.5.0",
            "value": " 10000/10000 [00:02&lt;00:00,  2.12s/it]",
            "_view_count": null,
            "_view_module_version": "1.5.0",
            "description_tooltip": null,
            "_model_module": "@jupyter-widgets/controls",
            "layout": "IPY_MODEL_41997e0ea411444d9f63d26302c38a10"
          }
        },
        "978165996112424396688b9197daf8ba": {
          "model_module": "@jupyter-widgets/controls",
          "model_name": "DescriptionStyleModel",
          "model_module_version": "1.5.0",
          "state": {
            "_view_name": "StyleView",
            "_model_name": "DescriptionStyleModel",
            "description_width": "",
            "_view_module": "@jupyter-widgets/base",
            "_model_module_version": "1.5.0",
            "_view_count": null,
            "_view_module_version": "1.2.0",
            "_model_module": "@jupyter-widgets/controls"
          }
        },
        "8d3c4ce607f7471c9f48cfc3edec2831": {
          "model_module": "@jupyter-widgets/base",
          "model_name": "LayoutModel",
          "model_module_version": "1.2.0",
          "state": {
            "_view_name": "LayoutView",
            "grid_template_rows": null,
            "right": null,
            "justify_content": null,
            "_view_module": "@jupyter-widgets/base",
            "overflow": null,
            "_model_module_version": "1.2.0",
            "_view_count": null,
            "flex_flow": null,
            "width": null,
            "min_width": null,
            "border": null,
            "align_items": null,
            "bottom": null,
            "_model_module": "@jupyter-widgets/base",
            "top": null,
            "grid_column": null,
            "overflow_y": null,
            "overflow_x": null,
            "grid_auto_flow": null,
            "grid_area": null,
            "grid_template_columns": null,
            "flex": null,
            "_model_name": "LayoutModel",
            "justify_items": null,
            "grid_row": null,
            "max_height": null,
            "align_content": null,
            "visibility": null,
            "align_self": null,
            "height": null,
            "min_height": null,
            "padding": null,
            "grid_auto_rows": null,
            "grid_gap": null,
            "max_width": null,
            "order": null,
            "_view_module_version": "1.2.0",
            "grid_template_areas": null,
            "object_position": null,
            "object_fit": null,
            "grid_auto_columns": null,
            "margin": null,
            "display": null,
            "left": null
          }
        },
        "60821916b84b4c6db94f79c09052cfac": {
          "model_module": "@jupyter-widgets/controls",
          "model_name": "ProgressStyleModel",
          "model_module_version": "1.5.0",
          "state": {
            "_view_name": "StyleView",
            "_model_name": "ProgressStyleModel",
            "description_width": "",
            "_view_module": "@jupyter-widgets/base",
            "_model_module_version": "1.5.0",
            "_view_count": null,
            "_view_module_version": "1.2.0",
            "bar_color": null,
            "_model_module": "@jupyter-widgets/controls"
          }
        },
        "5ce43139361840c88105ca1450d819ab": {
          "model_module": "@jupyter-widgets/base",
          "model_name": "LayoutModel",
          "model_module_version": "1.2.0",
          "state": {
            "_view_name": "LayoutView",
            "grid_template_rows": null,
            "right": null,
            "justify_content": null,
            "_view_module": "@jupyter-widgets/base",
            "overflow": null,
            "_model_module_version": "1.2.0",
            "_view_count": null,
            "flex_flow": null,
            "width": null,
            "min_width": null,
            "border": null,
            "align_items": null,
            "bottom": null,
            "_model_module": "@jupyter-widgets/base",
            "top": null,
            "grid_column": null,
            "overflow_y": null,
            "overflow_x": null,
            "grid_auto_flow": null,
            "grid_area": null,
            "grid_template_columns": null,
            "flex": null,
            "_model_name": "LayoutModel",
            "justify_items": null,
            "grid_row": null,
            "max_height": null,
            "align_content": null,
            "visibility": null,
            "align_self": null,
            "height": null,
            "min_height": null,
            "padding": null,
            "grid_auto_rows": null,
            "grid_gap": null,
            "max_width": null,
            "order": null,
            "_view_module_version": "1.2.0",
            "grid_template_areas": null,
            "object_position": null,
            "object_fit": null,
            "grid_auto_columns": null,
            "margin": null,
            "display": null,
            "left": null
          }
        },
        "12e4dfab66d24434858e2fdcc796cd60": {
          "model_module": "@jupyter-widgets/controls",
          "model_name": "DescriptionStyleModel",
          "model_module_version": "1.5.0",
          "state": {
            "_view_name": "StyleView",
            "_model_name": "DescriptionStyleModel",
            "description_width": "",
            "_view_module": "@jupyter-widgets/base",
            "_model_module_version": "1.5.0",
            "_view_count": null,
            "_view_module_version": "1.2.0",
            "_model_module": "@jupyter-widgets/controls"
          }
        },
        "41997e0ea411444d9f63d26302c38a10": {
          "model_module": "@jupyter-widgets/base",
          "model_name": "LayoutModel",
          "model_module_version": "1.2.0",
          "state": {
            "_view_name": "LayoutView",
            "grid_template_rows": null,
            "right": null,
            "justify_content": null,
            "_view_module": "@jupyter-widgets/base",
            "overflow": null,
            "_model_module_version": "1.2.0",
            "_view_count": null,
            "flex_flow": null,
            "width": null,
            "min_width": null,
            "border": null,
            "align_items": null,
            "bottom": null,
            "_model_module": "@jupyter-widgets/base",
            "top": null,
            "grid_column": null,
            "overflow_y": null,
            "overflow_x": null,
            "grid_auto_flow": null,
            "grid_area": null,
            "grid_template_columns": null,
            "flex": null,
            "_model_name": "LayoutModel",
            "justify_items": null,
            "grid_row": null,
            "max_height": null,
            "align_content": null,
            "visibility": null,
            "align_self": null,
            "height": null,
            "min_height": null,
            "padding": null,
            "grid_auto_rows": null,
            "grid_gap": null,
            "max_width": null,
            "order": null,
            "_view_module_version": "1.2.0",
            "grid_template_areas": null,
            "object_position": null,
            "object_fit": null,
            "grid_auto_columns": null,
            "margin": null,
            "display": null,
            "left": null
          }
        },
        "42f2a8df8fe245a68b06fbb9c33f5172": {
          "model_module": "@jupyter-widgets/controls",
          "model_name": "HBoxModel",
          "model_module_version": "1.5.0",
          "state": {
            "_view_name": "HBoxView",
            "_dom_classes": [],
            "_model_name": "HBoxModel",
            "_view_module": "@jupyter-widgets/controls",
            "_model_module_version": "1.5.0",
            "_view_count": null,
            "_view_module_version": "1.5.0",
            "box_style": "",
            "layout": "IPY_MODEL_7ec0d814787a48f48d11250493fd29f5",
            "_model_module": "@jupyter-widgets/controls",
            "children": [
              "IPY_MODEL_673d1fc1158245b3808e8f3c7627ca11",
              "IPY_MODEL_3e525903190c483e941066c931f5a7fc",
              "IPY_MODEL_6ae270f2c28a4e798947aa9912339966"
            ]
          }
        },
        "7ec0d814787a48f48d11250493fd29f5": {
          "model_module": "@jupyter-widgets/base",
          "model_name": "LayoutModel",
          "model_module_version": "1.2.0",
          "state": {
            "_view_name": "LayoutView",
            "grid_template_rows": null,
            "right": null,
            "justify_content": null,
            "_view_module": "@jupyter-widgets/base",
            "overflow": null,
            "_model_module_version": "1.2.0",
            "_view_count": null,
            "flex_flow": null,
            "width": null,
            "min_width": null,
            "border": null,
            "align_items": null,
            "bottom": null,
            "_model_module": "@jupyter-widgets/base",
            "top": null,
            "grid_column": null,
            "overflow_y": null,
            "overflow_x": null,
            "grid_auto_flow": null,
            "grid_area": null,
            "grid_template_columns": null,
            "flex": null,
            "_model_name": "LayoutModel",
            "justify_items": null,
            "grid_row": null,
            "max_height": null,
            "align_content": null,
            "visibility": null,
            "align_self": null,
            "height": null,
            "min_height": null,
            "padding": null,
            "grid_auto_rows": null,
            "grid_gap": null,
            "max_width": null,
            "order": null,
            "_view_module_version": "1.2.0",
            "grid_template_areas": null,
            "object_position": null,
            "object_fit": null,
            "grid_auto_columns": null,
            "margin": null,
            "display": null,
            "left": null
          }
        },
        "673d1fc1158245b3808e8f3c7627ca11": {
          "model_module": "@jupyter-widgets/controls",
          "model_name": "HTMLModel",
          "model_module_version": "1.5.0",
          "state": {
            "_view_name": "HTMLView",
            "style": "IPY_MODEL_13ba07bcad414d419612fb47f3683751",
            "_dom_classes": [],
            "description": "",
            "_model_name": "HTMLModel",
            "placeholder": "​",
            "_view_module": "@jupyter-widgets/controls",
            "_model_module_version": "1.5.0",
            "value": "100%",
            "_view_count": null,
            "_view_module_version": "1.5.0",
            "description_tooltip": null,
            "_model_module": "@jupyter-widgets/controls",
            "layout": "IPY_MODEL_ceed9d60422843dab29d0755d91b955f"
          }
        },
        "3e525903190c483e941066c931f5a7fc": {
          "model_module": "@jupyter-widgets/controls",
          "model_name": "FloatProgressModel",
          "model_module_version": "1.5.0",
          "state": {
            "_view_name": "ProgressView",
            "style": "IPY_MODEL_49b14e89abfd48b09f0b1873faef2364",
            "_dom_classes": [],
            "description": "",
            "_model_name": "FloatProgressModel",
            "bar_style": "success",
            "max": 50,
            "_view_module": "@jupyter-widgets/controls",
            "_model_module_version": "1.5.0",
            "value": 50,
            "_view_count": null,
            "_view_module_version": "1.5.0",
            "orientation": "horizontal",
            "min": 0,
            "description_tooltip": null,
            "_model_module": "@jupyter-widgets/controls",
            "layout": "IPY_MODEL_6f0b2c5caae440b9b45d3ee351be1454"
          }
        },
        "6ae270f2c28a4e798947aa9912339966": {
          "model_module": "@jupyter-widgets/controls",
          "model_name": "HTMLModel",
          "model_module_version": "1.5.0",
          "state": {
            "_view_name": "HTMLView",
            "style": "IPY_MODEL_02f2e700f8784a21b80b3e9b2a313e4d",
            "_dom_classes": [],
            "description": "",
            "_model_name": "HTMLModel",
            "placeholder": "​",
            "_view_module": "@jupyter-widgets/controls",
            "_model_module_version": "1.5.0",
            "value": " 50/50 [00:32&lt;00:00,  1.55epoch/s, alpha=0.0103]",
            "_view_count": null,
            "_view_module_version": "1.5.0",
            "description_tooltip": null,
            "_model_module": "@jupyter-widgets/controls",
            "layout": "IPY_MODEL_a4355263abcd4a979fce3d51c0041d47"
          }
        },
        "13ba07bcad414d419612fb47f3683751": {
          "model_module": "@jupyter-widgets/controls",
          "model_name": "DescriptionStyleModel",
          "model_module_version": "1.5.0",
          "state": {
            "_view_name": "StyleView",
            "_model_name": "DescriptionStyleModel",
            "description_width": "",
            "_view_module": "@jupyter-widgets/base",
            "_model_module_version": "1.5.0",
            "_view_count": null,
            "_view_module_version": "1.2.0",
            "_model_module": "@jupyter-widgets/controls"
          }
        },
        "ceed9d60422843dab29d0755d91b955f": {
          "model_module": "@jupyter-widgets/base",
          "model_name": "LayoutModel",
          "model_module_version": "1.2.0",
          "state": {
            "_view_name": "LayoutView",
            "grid_template_rows": null,
            "right": null,
            "justify_content": null,
            "_view_module": "@jupyter-widgets/base",
            "overflow": null,
            "_model_module_version": "1.2.0",
            "_view_count": null,
            "flex_flow": null,
            "width": null,
            "min_width": null,
            "border": null,
            "align_items": null,
            "bottom": null,
            "_model_module": "@jupyter-widgets/base",
            "top": null,
            "grid_column": null,
            "overflow_y": null,
            "overflow_x": null,
            "grid_auto_flow": null,
            "grid_area": null,
            "grid_template_columns": null,
            "flex": null,
            "_model_name": "LayoutModel",
            "justify_items": null,
            "grid_row": null,
            "max_height": null,
            "align_content": null,
            "visibility": null,
            "align_self": null,
            "height": null,
            "min_height": null,
            "padding": null,
            "grid_auto_rows": null,
            "grid_gap": null,
            "max_width": null,
            "order": null,
            "_view_module_version": "1.2.0",
            "grid_template_areas": null,
            "object_position": null,
            "object_fit": null,
            "grid_auto_columns": null,
            "margin": null,
            "display": null,
            "left": null
          }
        },
        "49b14e89abfd48b09f0b1873faef2364": {
          "model_module": "@jupyter-widgets/controls",
          "model_name": "ProgressStyleModel",
          "model_module_version": "1.5.0",
          "state": {
            "_view_name": "StyleView",
            "_model_name": "ProgressStyleModel",
            "description_width": "",
            "_view_module": "@jupyter-widgets/base",
            "_model_module_version": "1.5.0",
            "_view_count": null,
            "_view_module_version": "1.2.0",
            "bar_color": null,
            "_model_module": "@jupyter-widgets/controls"
          }
        },
        "6f0b2c5caae440b9b45d3ee351be1454": {
          "model_module": "@jupyter-widgets/base",
          "model_name": "LayoutModel",
          "model_module_version": "1.2.0",
          "state": {
            "_view_name": "LayoutView",
            "grid_template_rows": null,
            "right": null,
            "justify_content": null,
            "_view_module": "@jupyter-widgets/base",
            "overflow": null,
            "_model_module_version": "1.2.0",
            "_view_count": null,
            "flex_flow": null,
            "width": null,
            "min_width": null,
            "border": null,
            "align_items": null,
            "bottom": null,
            "_model_module": "@jupyter-widgets/base",
            "top": null,
            "grid_column": null,
            "overflow_y": null,
            "overflow_x": null,
            "grid_auto_flow": null,
            "grid_area": null,
            "grid_template_columns": null,
            "flex": null,
            "_model_name": "LayoutModel",
            "justify_items": null,
            "grid_row": null,
            "max_height": null,
            "align_content": null,
            "visibility": null,
            "align_self": null,
            "height": null,
            "min_height": null,
            "padding": null,
            "grid_auto_rows": null,
            "grid_gap": null,
            "max_width": null,
            "order": null,
            "_view_module_version": "1.2.0",
            "grid_template_areas": null,
            "object_position": null,
            "object_fit": null,
            "grid_auto_columns": null,
            "margin": null,
            "display": null,
            "left": null
          }
        },
        "02f2e700f8784a21b80b3e9b2a313e4d": {
          "model_module": "@jupyter-widgets/controls",
          "model_name": "DescriptionStyleModel",
          "model_module_version": "1.5.0",
          "state": {
            "_view_name": "StyleView",
            "_model_name": "DescriptionStyleModel",
            "description_width": "",
            "_view_module": "@jupyter-widgets/base",
            "_model_module_version": "1.5.0",
            "_view_count": null,
            "_view_module_version": "1.2.0",
            "_model_module": "@jupyter-widgets/controls"
          }
        },
        "a4355263abcd4a979fce3d51c0041d47": {
          "model_module": "@jupyter-widgets/base",
          "model_name": "LayoutModel",
          "model_module_version": "1.2.0",
          "state": {
            "_view_name": "LayoutView",
            "grid_template_rows": null,
            "right": null,
            "justify_content": null,
            "_view_module": "@jupyter-widgets/base",
            "overflow": null,
            "_model_module_version": "1.2.0",
            "_view_count": null,
            "flex_flow": null,
            "width": null,
            "min_width": null,
            "border": null,
            "align_items": null,
            "bottom": null,
            "_model_module": "@jupyter-widgets/base",
            "top": null,
            "grid_column": null,
            "overflow_y": null,
            "overflow_x": null,
            "grid_auto_flow": null,
            "grid_area": null,
            "grid_template_columns": null,
            "flex": null,
            "_model_name": "LayoutModel",
            "justify_items": null,
            "grid_row": null,
            "max_height": null,
            "align_content": null,
            "visibility": null,
            "align_self": null,
            "height": null,
            "min_height": null,
            "padding": null,
            "grid_auto_rows": null,
            "grid_gap": null,
            "max_width": null,
            "order": null,
            "_view_module_version": "1.2.0",
            "grid_template_areas": null,
            "object_position": null,
            "object_fit": null,
            "grid_auto_columns": null,
            "margin": null,
            "display": null,
            "left": null
          }
        }
      }
    }
  },
  "cells": [
    {
      "cell_type": "code",
      "metadata": {
        "id": "Dpu4wI_XPAZ2"
      },
      "source": [
        "import pickle\n",
        "from pathlib import Path\n",
        "from multiprocessing import Pool, cpu_count\n",
        "from itertools import islice\n",
        "\n",
        "import pandas as pd\n",
        "import numpy as np\n",
        "\n",
        "import gensim\n",
        "from gensim.models import Word2Vec\n",
        "from gensim.models.word2vec import Text8Corpus\n",
        "from gensim.test.utils import common_texts\n",
        "from gensim.models.callbacks import CallbackAny2Vec\n",
        "\n",
        "from nltk.tokenize import sent_tokenize, word_tokenize\n",
        "\n",
        "from scipy.linalg import norm\n",
        "from sklearn.decomposition import PCA\n",
        "\n",
        "import tqdm\n",
        "from tqdm.contrib.concurrent import process_map\n",
        "\n",
        "from matplotlib import pyplot as plt\n",
        "\n",
        "np.random.seed(2021)"
      ],
      "execution_count": 1,
      "outputs": []
    },
    {
      "cell_type": "code",
      "metadata": {
        "id": "BclFY9EQP9qO"
      },
      "source": [
        "!mkdir -p data"
      ],
      "execution_count": 2,
      "outputs": []
    },
    {
      "cell_type": "code",
      "metadata": {
        "colab": {
          "base_uri": "https://localhost:8080/"
        },
        "id": "XSh0msGFdoi5",
        "outputId": "b17186fb-a7b9-4734-ac01-5e365c7e0eb5"
      },
      "source": [
        "!python3 -m wikiextractor.WikiExtractor -h >/dev/null 2>&1 || pip install --user wikiextractor"
      ],
      "execution_count": 3,
      "outputs": [
        {
          "output_type": "stream",
          "name": "stdout",
          "text": [
            "Collecting wikiextractor\n",
            "  Downloading wikiextractor-3.0.6-py3-none-any.whl (46 kB)\n",
            "\u001b[?25l\r\u001b[K     |███████                         | 10 kB 22.5 MB/s eta 0:00:01\r\u001b[K     |██████████████▏                 | 20 kB 26.1 MB/s eta 0:00:01\r\u001b[K     |█████████████████████▏          | 30 kB 29.3 MB/s eta 0:00:01\r\u001b[K     |████████████████████████████▎   | 40 kB 18.8 MB/s eta 0:00:01\r\u001b[K     |████████████████████████████████| 46 kB 3.0 MB/s \n",
            "\u001b[?25hInstalling collected packages: wikiextractor\n",
            "\u001b[33m  WARNING: The scripts extractPage and wikiextractor are installed in '/root/.local/bin' which is not on PATH.\n",
            "  Consider adding this directory to PATH or, if you prefer to suppress this warning, use --no-warn-script-location.\u001b[0m\n",
            "Successfully installed wikiextractor-3.0.6\n"
          ]
        }
      ]
    },
    {
      "cell_type": "code",
      "metadata": {
        "colab": {
          "base_uri": "https://localhost:8080/"
        },
        "id": "sYAvYfEidM9O",
        "outputId": "c0b29a88-78a9-4bd1-ee1d-db091eb38edf"
      },
      "source": [
        "DS_ROOT = Path(\"data\".rstrip(\"/\"))\n",
        "![ -f \"{DS_ROOT}/enwik8.zip\" ] || [ -f \"{DS_ROOT}/enwik8\" ] || wget -P \"{DS_ROOT}\" http://cs.fit.edu/~mmahoney/compression/enwik8.zip\n",
        "![ -f \"{DS_ROOT}/enwik8.zip\" ] && unzip -o -d \"{DS_ROOT}\" \"{DS_ROOT}/enwik8.zip\" && rm \"{DS_ROOT}/enwik8.zip\"\n",
        "!head -n 10 \"{DS_ROOT}/enwik8\"\n",
        "![ -f \"{DS_ROOT}/enwik8_clean\" ] || \\\n",
        " ( echo \"Extracting and cleaning {DS_ROOT}/enwik8 to {DS_ROOT}/enwik8_clean...\" && \\\n",
        "   python3 -m wikiextractor.WikiExtractor \"{DS_ROOT}/enwik8\" --processes 8 -q -o - \\\n",
        "    | sed \"/^\\s*\\$/d\" \\\n",
        "    | grep -v \"^<doc id=\" \\\n",
        "    | grep -v \"</doc>\\$\" \\\n",
        "    > \"{DS_ROOT}/enwik8_clean\" && \\\n",
        "    echo \"Succesfully extracted and cleaned {DS_ROOT}/enwik8 to {DS_ROOT}/enwik8_clean\" )"
      ],
      "execution_count": 4,
      "outputs": [
        {
          "output_type": "stream",
          "name": "stdout",
          "text": [
            "--2021-11-08 00:00:55--  http://cs.fit.edu/~mmahoney/compression/enwik8.zip\n",
            "Resolving cs.fit.edu (cs.fit.edu)... 163.118.135.11\n",
            "Connecting to cs.fit.edu (cs.fit.edu)|163.118.135.11|:80... connected.\n",
            "HTTP request sent, awaiting response... 301 Moved Permanently\n",
            "Location: https://cs.fit.edu/~mmahoney/compression/enwik8.zip [following]\n",
            "--2021-11-08 00:00:55--  https://cs.fit.edu/~mmahoney/compression/enwik8.zip\n",
            "Connecting to cs.fit.edu (cs.fit.edu)|163.118.135.11|:443... connected.\n",
            "HTTP request sent, awaiting response... 200 OK\n",
            "Length: 35012219 (33M) [application/zip]\n",
            "Saving to: ‘data/enwik8.zip’\n",
            "\n",
            "enwik8.zip          100%[===================>]  33.39M  28.1MB/s    in 1.2s    \n",
            "\n",
            "2021-11-08 00:00:57 (28.1 MB/s) - ‘data/enwik8.zip’ saved [35012219/35012219]\n",
            "\n",
            "Archive:  data/enwik8.zip\n",
            "  inflating: data/enwik8             \n",
            "<mediawiki xmlns=\"http://www.mediawiki.org/xml/export-0.3/\" xmlns:xsi=\"http://www.w3.org/2001/XMLSchema-instance\" xsi:schemaLocation=\"http://www.mediawiki.org/xml/export-0.3/ http://www.mediawiki.org/xml/export-0.3.xsd\" version=\"0.3\" xml:lang=\"en\">\n",
            "  <siteinfo>\n",
            "    <sitename>Wikipedia</sitename>\n",
            "    <base>http://en.wikipedia.org/wiki/Main_Page</base>\n",
            "    <generator>MediaWiki 1.6alpha</generator>\n",
            "    <case>first-letter</case>\n",
            "      <namespaces>\n",
            "      <namespace key=\"-2\">Media</namespace>\n",
            "      <namespace key=\"-1\">Special</namespace>\n",
            "      <namespace key=\"0\" />\n",
            "Extracting and cleaning data/enwik8 to data/enwik8_clean...\n",
            "Succesfully extracted and cleaned data/enwik8 to data/enwik8_clean\n"
          ]
        }
      ]
    },
    {
      "cell_type": "code",
      "metadata": {
        "colab": {
          "base_uri": "https://localhost:8080/"
        },
        "id": "TQzz_MKSdwB7",
        "outputId": "40c76f51-ffe2-4158-8954-7e88bc4cf706"
      },
      "source": [
        "!head -n 10 \"{DS_ROOT}/enwik8_clean\""
      ],
      "execution_count": 5,
      "outputs": [
        {
          "output_type": "stream",
          "name": "stdout",
          "text": [
            "AaA\n",
            "AlgeriA\n",
            "AmericanSamoa\n",
            "AppliedEthics\n",
            "AccessibleComputing\n",
            "AdA\n",
            "Anarchism\n",
            "Anarchism originated as a term of abuse first used against early working class radicals including the Diggers of the English Revolution and the \"sans-culottes\" of the French Revolution. Whilst the term is still used in a pejorative way to describe \"any act that used violent means to destroy the organization of society\", it has also been taken up as a positive label by self-defined anarchists.\n",
            "The word anarchism is derived from the Greek \"\" (\"without archons (ruler, chief, king)\"). Anarchism as a political philosophy, is the belief that \"rulers\" are unnecessary and should be abolished, although there are differing interpretations of what this means. Anarchism also refers to related social movements) that advocate the elimination of authoritarian institutions, particularly the state. The word \"anarchy,\" as most anarchists use it, does not imply chaos, nihilism, or anomie, but rather a harmonious anti-authoritarian society. In place of what are regarded as authoritarian political structures and coercive economic institutions, anarchists advocate social relations based upon voluntary association of autonomous individuals, mutual aid, and self-governance. \n",
            "While anarchism is most easily defined by what it is against, anarchists also offer positive visions of what they believe to be a truly free society. However, ideas about how an anarchist society might work vary considerably, especially with respect to economics; there is also disagreement about how a free society might be brought about. \n"
          ]
        }
      ]
    },
    {
      "cell_type": "code",
      "metadata": {
        "colab": {
          "base_uri": "https://localhost:8080/"
        },
        "id": "pSa2t2ZQe_Cr",
        "outputId": "23411e65-b573-497f-86cc-57b3cdad561f"
      },
      "source": [
        "!python -m nltk.downloader punkt"
      ],
      "execution_count": 6,
      "outputs": [
        {
          "output_type": "stream",
          "name": "stdout",
          "text": [
            "/usr/lib/python3.7/runpy.py:125: RuntimeWarning: 'nltk.downloader' found in sys.modules after import of package 'nltk', but prior to execution of 'nltk.downloader'; this may result in unpredictable behaviour\n",
            "  warn(RuntimeWarning(msg))\n",
            "[nltk_data] Downloading package punkt to /root/nltk_data...\n",
            "[nltk_data]   Unzipping tokenizers/punkt.zip.\n"
          ]
        }
      ]
    },
    {
      "cell_type": "code",
      "metadata": {
        "id": "LVOGBPU8QC-R"
      },
      "source": [
        "sentences = []\n",
        "with open(DS_ROOT/'enwik8_clean', 'r') as fp:\n",
        "    for line in fp.readlines():\n",
        "        for sentence in sent_tokenize(line.strip()):\n",
        "            if len(sentence.split(\" \")) <= 2:\n",
        "                continue\n",
        "            sentences.append(sentence)"
      ],
      "execution_count": 7,
      "outputs": []
    },
    {
      "cell_type": "code",
      "metadata": {
        "id": "vn_5xOl6PbQe"
      },
      "source": [
        "if not (DS_ROOT/'enwik8_sentences.pkl').exists():\n",
        "    sentences = []\n",
        "    with open(DS_ROOT/'enwik8_clean', 'r') as fp:\n",
        "        for line in fp.readlines():\n",
        "            for sentence in sent_tokenize(line.strip()):\n",
        "                if len(sentence.split(\" \")) <= 2:\n",
        "                    continue\n",
        "                sentences.append(sentence)\n",
        "    with open(DS_ROOT/'enwik8_sentences.pkl', 'w+b') as fp:\n",
        "        pickle.dump(sentences, fp)\n",
        "else:\n",
        "    with open(DS_ROOT/'enwik8_sentences.pkl', 'rb') as fp:\n",
        "        sentences = pickle.load(fp)"
      ],
      "execution_count": 8,
      "outputs": []
    },
    {
      "cell_type": "code",
      "metadata": {
        "id": "AuXOevz3gPfb"
      },
      "source": [
        "class TextTransform(object):\n",
        "    def __init__(self, tokenizer=word_tokenize, pre_process=str.lower):\n",
        "        self.pre_process = pre_process\n",
        "        self.tokenizer = tokenizer\n",
        "    \n",
        "    def __call__(self, text):\n",
        "        if self.pre_process is not None:\n",
        "            text = self.pre_process(text)\n",
        "        tokens = self.tokenizer(text)\n",
        "        return tokens\n",
        "\n",
        "transform = TextTransform(pre_process=None)"
      ],
      "execution_count": 9,
      "outputs": []
    },
    {
      "cell_type": "code",
      "metadata": {
        "id": "72xqUgojj12u"
      },
      "source": [
        "indices = np.random.permutation(range(len(sentences)))"
      ],
      "execution_count": 10,
      "outputs": []
    },
    {
      "cell_type": "code",
      "metadata": {
        "id": "RnVt5D9uTk7h"
      },
      "source": [
        "train_sentences = [sentences[i] for i in indices[:10_000]]"
      ],
      "execution_count": 11,
      "outputs": []
    },
    {
      "cell_type": "code",
      "metadata": {
        "colab": {
          "base_uri": "https://localhost:8080/",
          "height": 49,
          "referenced_widgets": [
            "0d47d99c2a0b41398a57f38c00afe402",
            "851ff1c617664031b6cdc293dcd404d6",
            "16f11d47355447019ce4c6543377a53b",
            "2a73fe08858e498d926d95a35cb54edb",
            "0abc52a711964f5794670e75fcccb851",
            "978165996112424396688b9197daf8ba",
            "8d3c4ce607f7471c9f48cfc3edec2831",
            "60821916b84b4c6db94f79c09052cfac",
            "5ce43139361840c88105ca1450d819ab",
            "12e4dfab66d24434858e2fdcc796cd60",
            "41997e0ea411444d9f63d26302c38a10"
          ]
        },
        "id": "QYiya25Ig80S",
        "outputId": "33273c4b-bc41-4256-8d13-ece11a8b876b"
      },
      "source": [
        "train_sentences = process_map(transform, train_sentences, max_workers=cpu_count(), chunksize=10000)"
      ],
      "execution_count": 12,
      "outputs": [
        {
          "output_type": "display_data",
          "data": {
            "application/vnd.jupyter.widget-view+json": {
              "model_id": "0d47d99c2a0b41398a57f38c00afe402",
              "version_minor": 0,
              "version_major": 2
            },
            "text/plain": [
              "  0%|          | 0/10000 [00:00<?, ?it/s]"
            ]
          },
          "metadata": {}
        }
      ]
    },
    {
      "cell_type": "code",
      "metadata": {
        "id": "g7By0lfVbiPR"
      },
      "source": [
        "lens = [len(x) for x in train_sentences]"
      ],
      "execution_count": 13,
      "outputs": []
    },
    {
      "cell_type": "code",
      "metadata": {
        "colab": {
          "base_uri": "https://localhost:8080/",
          "height": 281
        },
        "id": "Xd3x48L1bwNJ",
        "outputId": "54e79b8b-6294-4c00-d920-98b7abd50686"
      },
      "source": [
        "pd.Series(lens).plot.hist(bins=100)\n",
        "plt.title(\"Sentence length distribution\")\n",
        "plt.show()"
      ],
      "execution_count": 14,
      "outputs": [
        {
          "output_type": "display_data",
          "data": {
            "image/png": "[encoded data removed]",
            "text/plain": [
              "<Figure size 432x288 with 1 Axes>"
            ]
          },
          "metadata": {
            "needs_background": "light"
          }
        }
      ]
    },
    {
      "cell_type": "code",
      "metadata": {
        "id": "xOV3JlYdS_GB"
      },
      "source": [
        "class EpochLogger(CallbackAny2Vec):\n",
        "    def __init__(self):\n",
        "        self.epoch = 0\n",
        "        self.tqdm = tqdm.tqdm_notebook\n",
        "        self.epoch_tqdm = None\n",
        "\n",
        "    def on_train_begin(self, model):\n",
        "        self.epoch_tqdm = self.tqdm(total=model.epochs,\n",
        "                                    unit='epoch',\n",
        "                                    leave=True,\n",
        "                                    position=0,\n",
        "                                    ascii=False)\n",
        "        self.epoch_bar = self.epoch_tqdm.__enter__()\n",
        "\n",
        "    def on_epoch_begin(self, model):\n",
        "        #self.epoch_bar.update(0)\n",
        "        if hasattr(model, '_params'):\n",
        "            self.epoch_bar.set_postfix(**model._params)\n",
        "\n",
        "    def on_epoch_end(self, model):\n",
        "        self.epoch += 1\n",
        "        self.epoch_bar.update()\n",
        "        if self.epoch == model.epochs:\n",
        "            self.epoch_bar.close()\n",
        "            self.epoch_tqdm.close()"
      ],
      "execution_count": 15,
      "outputs": []
    },
    {
      "cell_type": "code",
      "metadata": {
        "id": "FjMYoChmoe5x"
      },
      "source": [
        "class HyperParamLogger(CallbackAny2Vec):\n",
        "    def __init__(self, **params_fn):\n",
        "        self.params_fn = params_fn\n",
        "        self._params_hist = []\n",
        "\n",
        "    def on_epoch_end(self, model):\n",
        "        params = {param_name: param_fn(model)\n",
        "                  for param_name, param_fn in self.params_fn.items()}\n",
        "        model._params = params\n",
        "        self._params_hist.append(params)\n",
        "    \n",
        "    @property\n",
        "    def params(self):\n",
        "        return self._params_hist[-1]\n",
        "    \n",
        "    @property\n",
        "    def params_hist(self):\n",
        "        return self._params_hist"
      ],
      "execution_count": 16,
      "outputs": []
    },
    {
      "cell_type": "code",
      "metadata": {
        "id": "L3YC6In8Z6x_"
      },
      "source": [
        "class CentroidCalculation(CallbackAny2Vec):\n",
        "    def __init__(self):\n",
        "        self._centroids = []\n",
        "\n",
        "    def get_centroid(self, model):\n",
        "        return model.wv.vectors.mean(axis=0)\n",
        "\n",
        "    @property\n",
        "    def centroids(self):\n",
        "        return np.stack(self._centroids)\n",
        "\n",
        "    def on_train_begin(self, model):\n",
        "        centroid = self.get_centroid(model)\n",
        "        self._centroids.append(centroid)\n",
        "    \n",
        "    def on_epoch_end(self, model):\n",
        "        centroid = self.get_centroid(model)\n",
        "        self._centroids.append(centroid)"
      ],
      "execution_count": 17,
      "outputs": []
    },
    {
      "cell_type": "code",
      "metadata": {
        "colab": {
          "base_uri": "https://localhost:8080/",
          "height": 101,
          "referenced_widgets": [
            "42f2a8df8fe245a68b06fbb9c33f5172",
            "7ec0d814787a48f48d11250493fd29f5",
            "673d1fc1158245b3808e8f3c7627ca11",
            "3e525903190c483e941066c931f5a7fc",
            "6ae270f2c28a4e798947aa9912339966",
            "13ba07bcad414d419612fb47f3683751",
            "ceed9d60422843dab29d0755d91b955f",
            "49b14e89abfd48b09f0b1873faef2364",
            "6f0b2c5caae440b9b45d3ee351be1454",
            "02f2e700f8784a21b80b3e9b2a313e4d",
            "a4355263abcd4a979fce3d51c0041d47"
          ]
        },
        "id": "KDFOgJYGPGJX",
        "outputId": "b04feedc-f876-43f4-9364-47a42d1738a9"
      },
      "source": [
        "centroid_callback = CentroidCalculation()\n",
        "hparams_callback = HyperParamLogger(alpha=lambda model: model.min_alpha_yet_reached)\n",
        "\n",
        "w2v = Word2Vec(sentences=train_sentences,\n",
        "               alpha=0.025,\n",
        "               min_alpha=0.01,\n",
        "               size=100,\n",
        "               window=5,\n",
        "               min_count=5,\n",
        "               sg=1,\n",
        "               negative=5,\n",
        "               callbacks=[centroid_callback,\n",
        "                          hparams_callback,\n",
        "                          EpochLogger()],\n",
        "               iter=50)"
      ],
      "execution_count": 18,
      "outputs": [
        {
          "output_type": "stream",
          "name": "stderr",
          "text": [
            "/usr/local/lib/python3.7/dist-packages/ipykernel_launcher.py:12: TqdmDeprecationWarning: This function will be removed in tqdm==5.0.0\n",
            "Please use `tqdm.notebook.tqdm` instead of `tqdm.tqdm_notebook`\n",
            "  if sys.path[0] == '':\n"
          ]
        },
        {
          "output_type": "display_data",
          "data": {
            "application/vnd.jupyter.widget-view+json": {
              "model_id": "42f2a8df8fe245a68b06fbb9c33f5172",
              "version_minor": 0,
              "version_major": 2
            },
            "text/plain": [
              "  0%|          | 0/50 [00:00<?, ?epoch/s]"
            ]
          },
          "metadata": {}
        }
      ]
    },
    {
      "cell_type": "code",
      "metadata": {
        "id": "AdUD2AWusHTB"
      },
      "source": [
        "def rowise_distance(a, b):\n",
        "    return norm(a-b, axis=1)\n",
        "\n",
        "def rowise_cosine_sim(a, b):\n",
        "    dot = np.matmul(np.expand_dims(a, axis=1),\n",
        "                    np.expand_dims(b, axis=2)).squeeze()\n",
        "    #print(dot.shape)\n",
        "    norm_a = norm(a, axis=1)\n",
        "    norm_b = norm(b, axis=1)\n",
        "    #print(norm_a.shape)\n",
        "    return dot / (norm_a * norm_b)"
      ],
      "execution_count": 19,
      "outputs": []
    },
    {
      "cell_type": "code",
      "metadata": {
        "colab": {
          "base_uri": "https://localhost:8080/",
          "height": 624
        },
        "id": "VvmHRX6omVnL",
        "outputId": "a9fc934e-a544-4128-cd79-04fd0bc4da83"
      },
      "source": [
        "shift_norm_centroid_hist = rowise_distance(centroid_callback.centroids[1:],centroid_callback.centroids[:-1])\n",
        "shift_sim_centroid_hist = rowise_cosine_sim(centroid_callback.centroids[1:],centroid_callback.centroids[:-1])\n",
        "\n",
        "fig, axs = plt.subplots(figsize=(20, 10), ncols=2, nrows=2)\n",
        "epoch_split = 3\n",
        "\n",
        "axs[0][0].set_title(f\"First {epoch_split} epochs\")\n",
        "axs[0][0].set_ylabel(\"Distance\")\n",
        "axs[0][0].plot(range(1,epoch_split+1),shift_norm_centroid_hist[:epoch_split])\n",
        "axs[0][1].set_ylabel(\"Distance\")\n",
        "axs[0][1].set_title(f\"Last {w2v.epochs-epoch_split} epochs\")\n",
        "axs[0][1].plot(range(epoch_split+1,w2v.epochs+1),shift_norm_centroid_hist[epoch_split:])\n",
        "\n",
        "\n",
        "axs[1][0].set_title(f\"First {epoch_split} epochs\")\n",
        "axs[1][0].set_ylabel(\"Similarity\")\n",
        "axs[1][0].plot(range(1,epoch_split+1),shift_sim_centroid_hist[:epoch_split])\n",
        "axs[1][1].set_ylabel(\"Similarity\")\n",
        "axs[1][1].set_title(f\"Last {w2v.epochs-epoch_split} epochs\")\n",
        "axs[1][1].plot(range(epoch_split+1,w2v.epochs+1),shift_sim_centroid_hist[epoch_split:])"
      ],
      "execution_count": 20,
      "outputs": [
        {
          "output_type": "execute_result",
          "data": {
            "text/plain": [
              "[<matplotlib.lines.Line2D at 0x7f629284be10>]"
            ]
          },
          "metadata": {},
          "execution_count": 20
        },
        {
          "output_type": "display_data",
          "data": {
            "image/png": "[encoded data removed]",
            "text/plain": [
              "<Figure size 1440x720 with 4 Axes>"
            ]
          },
          "metadata": {
            "needs_background": "light"
          }
        }
      ]
    },
    {
      "cell_type": "code",
      "metadata": {
        "id": "aih4b8ALanoC"
      },
      "source": [
        ""
      ],
      "execution_count": 20,
      "outputs": []
    }
  ]
}