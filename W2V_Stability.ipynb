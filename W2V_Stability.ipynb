{
 "cells": [
  {
   "cell_type": "markdown",
   "metadata": {},
   "source": [
    "<h1><center>W2V SG Stability</center></h1>"
   ]
  },
  {
   "cell_type": "code",
   "execution_count": 1,
   "metadata": {},
   "outputs": [],
   "source": [
    "%load_ext autoreload\n",
    "%autoreload 2"
   ]
  },
  {
   "cell_type": "code",
   "execution_count": 2,
   "metadata": {
    "id": "Dpu4wI_XPAZ2"
   },
   "outputs": [],
   "source": [
    "import math\n",
    "import re\n",
    "from pathlib import Path\n",
    "from multiprocessing import cpu_count\n",
    "from itertools import islice, chain\n",
    "\n",
    "import pandas as pd\n",
    "import numpy as np\n",
    "import string\n",
    "\n",
    "import gensim\n",
    "from gensim.models import Word2Vec\n",
    "\n",
    "from scipy.linalg import norm\n",
    "from sklearn.decomposition import PCA\n",
    "\n",
    "from tqdm.contrib.concurrent import process_map\n",
    "\n",
    "from matplotlib import pyplot as plt\n",
    "\n",
    "from transform import *\n",
    "from callbacks import *\n",
    "from utils import *\n",
    "\n",
    "np.random.seed(2021)"
   ]
  },
  {
   "cell_type": "code",
   "execution_count": 3,
   "metadata": {},
   "outputs": [],
   "source": [
    "DS_ROOT = Path(\"data/\")\n",
    "EVAL_ROOT = Path(\"eval_data/\")\n",
    "MODEL_ROOT = Path(\"models/\")"
   ]
  },
  {
   "cell_type": "code",
   "execution_count": 4,
   "metadata": {},
   "outputs": [
    {
     "data": {
      "text/plain": [
       "'4.1.3.dev0'"
      ]
     },
     "execution_count": 4,
     "metadata": {},
     "output_type": "execute_result"
    }
   ],
   "source": [
    "gensim.__version__"
   ]
  },
  {
   "cell_type": "markdown",
   "metadata": {},
   "source": [
    "## Data Preprocessing"
   ]
  },
  {
   "cell_type": "code",
   "execution_count": 5,
   "metadata": {
    "id": "BclFY9EQP9qO"
   },
   "outputs": [],
   "source": [
    "!mkdir -p data"
   ]
  },
  {
   "cell_type": "markdown",
   "metadata": {},
   "source": [
    "### Download & Parse Wikipedia Data"
   ]
  },
  {
   "cell_type": "code",
   "execution_count": 6,
   "metadata": {
    "colab": {
     "base_uri": "https://localhost:8080/"
    },
    "id": "XSh0msGFdoi5",
    "outputId": "b17186fb-a7b9-4734-ac01-5e365c7e0eb5"
   },
   "outputs": [],
   "source": [
    "!python3 -m wikiextractor.WikiExtractor -h >/dev/null 2>&1 || pip install --user wikiextractor"
   ]
  },
  {
   "cell_type": "code",
   "execution_count": 7,
   "metadata": {
    "colab": {
     "base_uri": "https://localhost:8080/"
    },
    "id": "sYAvYfEidM9O",
    "outputId": "c0b29a88-78a9-4bd1-ee1d-db091eb38edf"
   },
   "outputs": [
    {
     "name": "stdout",
     "output_type": "stream",
     "text": [
      "<mediawiki xmlns=\"http://www.mediawiki.org/xml/export-0.3/\" xmlns:xsi=\"http://www.w3.org/2001/XMLSchema-instance\" xsi:schemaLocation=\"http://www.mediawiki.org/xml/export-0.3/ http://www.mediawiki.org/xml/export-0.3.xsd\" version=\"0.3\" xml:lang=\"en\">\n",
      "  <siteinfo>\n",
      "    <sitename>Wikipedia</sitename>\n",
      "    <base>http://en.wikipedia.org/wiki/Main_Page</base>\n",
      "    <generator>MediaWiki 1.6alpha</generator>\n",
      "    <case>first-letter</case>\n",
      "      <namespaces>\n",
      "      <namespace key=\"-2\">Media</namespace>\n",
      "      <namespace key=\"-1\">Special</namespace>\n",
      "      <namespace key=\"0\" />\n"
     ]
    }
   ],
   "source": [
    "![ -f \"{DS_ROOT}/enwik8.zip\" ] || [ -f \"{DS_ROOT}/enwik8\" ] || wget -P \"{DS_ROOT}\" http://cs.fit.edu/~mmahoney/compression/enwik8.zip\n",
    "![ -f \"{DS_ROOT}/enwik8.zip\" ] && unzip -o -d \"{DS_ROOT}\" \"{DS_ROOT}/enwik8.zip\" && rm \"{DS_ROOT}/enwik8.zip\"\n",
    "!head -n 10 \"{DS_ROOT}/enwik8\"\n",
    "![ -f \"{DS_ROOT}/enwik8_clean\" ] || \\\n",
    " ( echo \"Extracting and cleaning {DS_ROOT}/enwik8 to {DS_ROOT}/enwik8_clean...\" && \\\n",
    "   python3 -m wikiextractor.WikiExtractor \"{DS_ROOT}/enwik8\" --processes 8 -q -o - \\\n",
    "    | sed \"/^\\s*\\$/d\" \\\n",
    "    | grep -v \"^<doc id=\" \\\n",
    "    | grep -v \"</doc>\\$\" \\\n",
    "    > \"{DS_ROOT}/enwik8_clean\" && \\\n",
    "    echo \"Succesfully extracted and cleaned {DS_ROOT}/enwik8 to {DS_ROOT}/enwik8_clean\" )"
   ]
  },
  {
   "cell_type": "code",
   "execution_count": 8,
   "metadata": {
    "colab": {
     "base_uri": "https://localhost:8080/"
    },
    "id": "TQzz_MKSdwB7",
    "outputId": "40c76f51-ffe2-4158-8954-7e88bc4cf706"
   },
   "outputs": [
    {
     "name": "stdout",
     "output_type": "stream",
     "text": [
      "Several comic book adaptations of the James Bond films have been published through the years, as well as numerous original stories.\n",
      "Bond characters.\n",
      "The James Bond series of novels and films have a plethora of interesting allies and villains. Bond's superiors and other officers of the British Secret Service are generally known by letters such as M and Q. In the novels (but not in the films), Bond has had two secretaries, Loelia Ponsonby and Mary Goodnight, who in the films typically have their roles and lines transferred to M's secretary Miss Moneypenny. Occasionally Bond is assigned to work a case with his good friend, Felix Leiter of the CIA. In the films, Leiter appeared regularly during the Connery era, only once during Moore's tenure, and in both Dalton films; however, he was only played by the same actor twice.\n",
      "Bond's women, particularly in the films, often have double entendre names, leading to coy jokes, for example, \"Pussy Galore\" in \"Goldfinger\" (a name invented by Fleming), \"Plenty O'Toole\" in \"Diamonds Are Forever\", and \"Xenia Onatopp\" (a villainess sexually excited by strangling men with her thighs) in \"GoldenEye\". The aggressiveness of Bond's sexual conquests occasionally while his lovers eventually return his advances, he does not take the initial \"no\" for an answer. Despite Bond's philandering, most end up, if not in love with him, at least subdued by him. Since Brosnan's tenure, however, the character has taken on a (relatively) more progressive outlook on women; he respects the new, female M (played by Judi Dench) and has let a few women, particularly Paris Carver and Elektra King, get under his skin. \n",
      "Throughout both the novels and the films there have only been a handful of recurring characters. Some of the more memorable ones include Bill Tanner, Rene Mathis, Felix Leiter, and Jack Wade.\n",
      "Vehicles &amp; gadgets.\n",
      "Exotic espionage equipment and vehicles are very popular elements of James Bond's literary and cinematic missions; these items often prove critically important to Bond removing obstacles to the success of his missions.\n",
      "Fleming's novels and early screen adaptations presented minimal equipment such as \"From Russia with Love's\" booby-trapped attaché case; in \"Dr. No\", Bond's sole gadgets were a geiger counter and a wristwatch with a luminous (and radioactive!) face. The gadgets, however, assumed a higher, spectacular profile in the 1964 film \"Goldfinger\"; its success encouraged further espionage equipment from Q Branch to be supplied to 007. Some films, in the opinion of many critics and fans, have had excessive amounts of gadgets or extremely outlandish gadgets and vehicles, specifically 1979's science fiction-oriented \"Moonraker\" and 2002's \"Die Another Day\" in which Bond's Aston Martin could become invisible due to a technology Q refers to as adaptive camouflage. Since \"Moonraker\" subsequent productions struggled with balancing gadget content against the story's capacities, without implying a technology-dependent man, to mixed results.\n",
      "Bond's most famous car is the silver grey Aston Martin DB5 seen in \"Goldfinger\", \"Thunderball\", \"GoldenEye\", and \"Tomorrow Never Dies\". Although the films used a number of different Aston Martin DB5s on film and for publicity one of them was sold in January 2006 at an auction in Arizona for $2,090,000 (USD) to an unnamed European collector. That specific car was originally sold for £5,000 in 1970 .\n",
      "In Fleming's books, Bond had a penchant for \"battleship grey\" Bentleys, while Gardner awarded the agent a modified Saab 900 Turbo nicknamed the Silver Beast and later a Bentley Mulsanne Turbo.\n"
     ]
    }
   ],
   "source": [
    "!tail -n 10 \"{DS_ROOT}/enwik8_clean\""
   ]
  },
  {
   "cell_type": "code",
   "execution_count": 9,
   "metadata": {
    "colab": {
     "base_uri": "https://localhost:8080/"
    },
    "id": "pSa2t2ZQe_Cr",
    "outputId": "23411e65-b573-497f-86cc-57b3cdad561f"
   },
   "outputs": [
    {
     "name": "stdout",
     "output_type": "stream",
     "text": [
      "/usr/lib/python3.9/runpy.py:127: RuntimeWarning: 'nltk.downloader' found in sys.modules after import of package 'nltk', but prior to execution of 'nltk.downloader'; this may result in unpredictable behaviour\n",
      "  warn(RuntimeWarning(msg))\n",
      "[nltk_data] Downloading package punkt to /home/chino/nltk_data...\n",
      "[nltk_data]   Package punkt is already up-to-date!\n"
     ]
    }
   ],
   "source": [
    "!python -m nltk.downloader punkt"
   ]
  },
  {
   "cell_type": "markdown",
   "metadata": {},
   "source": [
    "### Text Preprocessing"
   ]
  },
  {
   "cell_type": "markdown",
   "metadata": {},
   "source": [
    "#### Split corpus into sentences"
   ]
  },
  {
   "cell_type": "code",
   "execution_count": 10,
   "metadata": {
    "id": "vn_5xOl6PbQe"
   },
   "outputs": [],
   "source": [
    "sentences = load_sentences(DS_ROOT/'enwik8_clean')"
   ]
  },
  {
   "cell_type": "markdown",
   "metadata": {},
   "source": [
    "#### Tokenization of each sentence"
   ]
  },
  {
   "cell_type": "code",
   "execution_count": 11,
   "metadata": {
    "id": "AuXOevz3gPfb"
   },
   "outputs": [],
   "source": [
    "table = str.maketrans(string.punctuation,\" \" * len(string.punctuation))\n",
    "def preprocess(text):\n",
    "    text = text.translate(table)\n",
    "    text = text.lower()\n",
    "    return text\n",
    "\n",
    "transform = TextTransform(pre_process=preprocess)"
   ]
  },
  {
   "cell_type": "code",
   "execution_count": 12,
   "metadata": {
    "colab": {
     "base_uri": "https://localhost:8080/",
     "height": 49,
     "referenced_widgets": [
      "0d47d99c2a0b41398a57f38c00afe402",
      "851ff1c617664031b6cdc293dcd404d6",
      "16f11d47355447019ce4c6543377a53b",
      "2a73fe08858e498d926d95a35cb54edb",
      "0abc52a711964f5794670e75fcccb851",
      "978165996112424396688b9197daf8ba",
      "8d3c4ce607f7471c9f48cfc3edec2831",
      "60821916b84b4c6db94f79c09052cfac",
      "5ce43139361840c88105ca1450d819ab",
      "12e4dfab66d24434858e2fdcc796cd60",
      "41997e0ea411444d9f63d26302c38a10"
     ]
    },
    "id": "QYiya25Ig80S",
    "outputId": "33273c4b-bc41-4256-8d13-ece11a8b876b"
   },
   "outputs": [
    {
     "data": {
      "application/vnd.jupyter.widget-view+json": {
       "model_id": "e583b6aad2e24c69a69c80f9c748d62d",
       "version_major": 2,
       "version_minor": 0
      },
      "text/plain": [
       "  0%|          | 0/445444 [00:00<?, ?it/s]"
      ]
     },
     "metadata": {},
     "output_type": "display_data"
    }
   ],
   "source": [
    "train_sentences = process_map(transform, sentences, max_workers=cpu_count(), chunksize=10000)"
   ]
  },
  {
   "cell_type": "code",
   "execution_count": 13,
   "metadata": {},
   "outputs": [],
   "source": [
    "counts = pd.Series(Counter(chain.from_iterable(train_sentences))).sort_values(ascending=False)\n",
    "df_words = pd.DataFrame({'index': np.arange(len(counts)),\n",
    "                         'qty': counts,\n",
    "                         'proba': counts/counts.sum(),\n",
    "                         'freq_class': 'other'})\n",
    "freq_class = pd.Series(['other'] * len(df_words), index=df_words.index)\n",
    "for i in range(0,math.ceil(np.log10(len(df_words)))):\n",
    "    freq_class.iloc[int((10**(i+1)-1)/(10-1)-1):int((10**(i+2)-1)/(10-1)-1)] = f'top-{10**(i+1)}' \n",
    "df_words['freq_class'] = freq_class"
   ]
  },
  {
   "cell_type": "markdown",
   "metadata": {},
   "source": [
    "## Dataset Exploration"
   ]
  },
  {
   "cell_type": "markdown",
   "metadata": {},
   "source": [
    "### Sentence-length distribution"
   ]
  },
  {
   "cell_type": "code",
   "execution_count": 14,
   "metadata": {
    "colab": {
     "base_uri": "https://localhost:8080/",
     "height": 281
    },
    "id": "Xd3x48L1bwNJ",
    "outputId": "54e79b8b-6294-4c00-d920-98b7abd50686"
   },
   "outputs": [
    {
     "data": {
      "image/png": "[encoded data removed]",
      "text/plain": [
       "<Figure size 432x288 with 1 Axes>"
      ]
     },
     "metadata": {
      "needs_background": "light"
     },
     "output_type": "display_data"
    }
   ],
   "source": [
    "lens = [len(x) for x in train_sentences]\n",
    "pd.Series(lens).plot.hist(bins=100)\n",
    "plt.title(\"First 1000 word distribution\")\n",
    "plt.title(\"Sentence length distribution\")\n",
    "plt.show()"
   ]
  },
  {
   "cell_type": "markdown",
   "metadata": {},
   "source": [
    "### Dataset word stats"
   ]
  },
  {
   "cell_type": "code",
   "execution_count": 15,
   "metadata": {},
   "outputs": [
    {
     "data": {
      "text/html": [
       "<div>\n",
       "<style scoped>\n",
       "    .dataframe tbody tr th:only-of-type {\n",
       "        vertical-align: middle;\n",
       "    }\n",
       "\n",
       "    .dataframe tbody tr th {\n",
       "        vertical-align: top;\n",
       "    }\n",
       "\n",
       "    .dataframe thead th {\n",
       "        text-align: right;\n",
       "    }\n",
       "</style>\n",
       "<table border=\"1\" class=\"dataframe\">\n",
       "  <thead>\n",
       "    <tr style=\"text-align: right;\">\n",
       "      <th></th>\n",
       "      <th>uniq_words</th>\n",
       "      <th>total_words</th>\n",
       "      <th>proba_min</th>\n",
       "      <th>proba_max</th>\n",
       "      <th>proba_sum</th>\n",
       "    </tr>\n",
       "  </thead>\n",
       "  <tbody>\n",
       "    <tr>\n",
       "      <th>all</th>\n",
       "      <td>176733.0</td>\n",
       "      <td>9492148.0</td>\n",
       "      <td>1.053502e-07</td>\n",
       "      <td>7.247643e-02</td>\n",
       "      <td>1.000000</td>\n",
       "    </tr>\n",
       "    <tr>\n",
       "      <th>top-10</th>\n",
       "      <td>10.0</td>\n",
       "      <td>2328845.0</td>\n",
       "      <td>7.905692e-03</td>\n",
       "      <td>7.247643e-02</td>\n",
       "      <td>0.245344</td>\n",
       "    </tr>\n",
       "    <tr>\n",
       "      <th>top-100</th>\n",
       "      <td>100.0</td>\n",
       "      <td>1836657.0</td>\n",
       "      <td>7.072161e-04</td>\n",
       "      <td>7.832684e-03</td>\n",
       "      <td>0.193492</td>\n",
       "    </tr>\n",
       "    <tr>\n",
       "      <th>top-1000</th>\n",
       "      <td>1000.0</td>\n",
       "      <td>2105011.0</td>\n",
       "      <td>1.042967e-04</td>\n",
       "      <td>7.037396e-04</td>\n",
       "      <td>0.221763</td>\n",
       "    </tr>\n",
       "    <tr>\n",
       "      <th>top-10000</th>\n",
       "      <td>10000.0</td>\n",
       "      <td>2318738.0</td>\n",
       "      <td>6.847765e-06</td>\n",
       "      <td>1.042967e-04</td>\n",
       "      <td>0.244280</td>\n",
       "    </tr>\n",
       "    <tr>\n",
       "      <th>top-100000</th>\n",
       "      <td>100000.0</td>\n",
       "      <td>837274.0</td>\n",
       "      <td>1.053502e-07</td>\n",
       "      <td>6.847765e-06</td>\n",
       "      <td>0.088207</td>\n",
       "    </tr>\n",
       "    <tr>\n",
       "      <th>top-1000000</th>\n",
       "      <td>65623.0</td>\n",
       "      <td>65623.0</td>\n",
       "      <td>1.053502e-07</td>\n",
       "      <td>1.053502e-07</td>\n",
       "      <td>0.006913</td>\n",
       "    </tr>\n",
       "  </tbody>\n",
       "</table>\n",
       "</div>"
      ],
      "text/plain": [
       "             uniq_words  total_words     proba_min     proba_max  proba_sum\n",
       "all            176733.0    9492148.0  1.053502e-07  7.247643e-02   1.000000\n",
       "top-10             10.0    2328845.0  7.905692e-03  7.247643e-02   0.245344\n",
       "top-100           100.0    1836657.0  7.072161e-04  7.832684e-03   0.193492\n",
       "top-1000         1000.0    2105011.0  1.042967e-04  7.037396e-04   0.221763\n",
       "top-10000       10000.0    2318738.0  6.847765e-06  1.042967e-04   0.244280\n",
       "top-100000     100000.0     837274.0  1.053502e-07  6.847765e-06   0.088207\n",
       "top-1000000     65623.0      65623.0  1.053502e-07  1.053502e-07   0.006913"
      ]
     },
     "execution_count": 15,
     "metadata": {},
     "output_type": "execute_result"
    }
   ],
   "source": [
    "def dataset_stats(df):\n",
    "    agg = pd.Series({'uniq_words': len(df),\n",
    "                     'total_words': df.qty.sum(),\n",
    "                     'proba_min': df.proba.min(),\n",
    "                     'proba_max': df.proba.max(),\n",
    "                     'proba_sum': df.proba.sum()})\n",
    "    return agg\n",
    "pd.concat([dataset_stats(df_words).rename('all').to_frame().transpose(),\n",
    "           df_words.groupby('freq_class').apply(dataset_stats)], axis=0)"
   ]
  },
  {
   "cell_type": "markdown",
   "metadata": {},
   "source": [
    "### Frequencies cluster distribution"
   ]
  },
  {
   "cell_type": "code",
   "execution_count": 16,
   "metadata": {},
   "outputs": [
    {
     "data": {
      "text/plain": [
       "<AxesSubplot:xlabel='freq_class'>"
      ]
     },
     "execution_count": 16,
     "metadata": {},
     "output_type": "execute_result"
    },
    {
     "data": {
      "image/png": "[encoded data removed]",
      "text/plain": [
       "<Figure size 432x288 with 1 Axes>"
      ]
     },
     "metadata": {
      "needs_background": "light"
     },
     "output_type": "display_data"
    }
   ],
   "source": [
    "df_words.groupby('freq_class').proba.sum().plot.bar()"
   ]
  },
  {
   "cell_type": "markdown",
   "metadata": {},
   "source": [
    "### WordSim"
   ]
  },
  {
   "cell_type": "code",
   "execution_count": 17,
   "metadata": {},
   "outputs": [
    {
     "data": {
      "text/html": [
       "<div>\n",
       "<style scoped>\n",
       "    .dataframe tbody tr th:only-of-type {\n",
       "        vertical-align: middle;\n",
       "    }\n",
       "\n",
       "    .dataframe tbody tr th {\n",
       "        vertical-align: top;\n",
       "    }\n",
       "\n",
       "    .dataframe thead th {\n",
       "        text-align: right;\n",
       "    }\n",
       "</style>\n",
       "<table border=\"1\" class=\"dataframe\">\n",
       "  <thead>\n",
       "    <tr style=\"text-align: right;\">\n",
       "      <th></th>\n",
       "      <th>word_a</th>\n",
       "      <th>word_b</th>\n",
       "      <th>rank</th>\n",
       "    </tr>\n",
       "  </thead>\n",
       "  <tbody>\n",
       "    <tr>\n",
       "      <th>0</th>\n",
       "      <td>love</td>\n",
       "      <td>sex</td>\n",
       "      <td>6.77</td>\n",
       "    </tr>\n",
       "    <tr>\n",
       "      <th>1</th>\n",
       "      <td>tiger</td>\n",
       "      <td>cat</td>\n",
       "      <td>7.35</td>\n",
       "    </tr>\n",
       "    <tr>\n",
       "      <th>2</th>\n",
       "      <td>tiger</td>\n",
       "      <td>tiger</td>\n",
       "      <td>10.00</td>\n",
       "    </tr>\n",
       "    <tr>\n",
       "      <th>3</th>\n",
       "      <td>book</td>\n",
       "      <td>paper</td>\n",
       "      <td>7.46</td>\n",
       "    </tr>\n",
       "    <tr>\n",
       "      <th>4</th>\n",
       "      <td>computer</td>\n",
       "      <td>keyboard</td>\n",
       "      <td>7.62</td>\n",
       "    </tr>\n",
       "  </tbody>\n",
       "</table>\n",
       "</div>"
      ],
      "text/plain": [
       "     word_a    word_b   rank\n",
       "0      love       sex   6.77\n",
       "1     tiger       cat   7.35\n",
       "2     tiger     tiger  10.00\n",
       "3      book     paper   7.46\n",
       "4  computer  keyboard   7.62"
      ]
     },
     "execution_count": 17,
     "metadata": {},
     "output_type": "execute_result"
    }
   ],
   "source": [
    "def load_ws(ds_root):\n",
    "    df_ws = pd.read_csv(ds_root/'wordsim353_sim_rel'/'wordsim353_agreed.txt',\n",
    "                    sep='\\t',\n",
    "                    comment='#',\n",
    "                    usecols=[1,2,3],\n",
    "                    names=['word_a',\n",
    "                           'word_b',\n",
    "                           'rank'])\n",
    "    return df_ws\n",
    "\n",
    "ws = load_ws(EVAL_ROOT)\n",
    "ws.head()"
   ]
  },
  {
   "cell_type": "markdown",
   "metadata": {},
   "source": [
    "## Training"
   ]
  },
  {
   "cell_type": "code",
   "execution_count": 18,
   "metadata": {
    "colab": {
     "base_uri": "https://localhost:8080/",
     "height": 101,
     "referenced_widgets": [
      "42f2a8df8fe245a68b06fbb9c33f5172",
      "7ec0d814787a48f48d11250493fd29f5",
      "673d1fc1158245b3808e8f3c7627ca11",
      "3e525903190c483e941066c931f5a7fc",
      "6ae270f2c28a4e798947aa9912339966",
      "13ba07bcad414d419612fb47f3683751",
      "ceed9d60422843dab29d0755d91b955f",
      "49b14e89abfd48b09f0b1873faef2364",
      "6f0b2c5caae440b9b45d3ee351be1454",
      "02f2e700f8784a21b80b3e9b2a313e4d",
      "a4355263abcd4a979fce3d51c0041d47"
     ]
    },
    "id": "KDFOgJYGPGJX",
    "outputId": "b04feedc-f876-43f4-9364-47a42d1738a9"
   },
   "outputs": [],
   "source": [
    "centroid_callback = CentroidCalculation()\n",
    "loss_callback = LossCallback()\n",
    "hparams_callback = HyperParamLogger(alpha=lambda model: model.min_alpha_yet_reached,\n",
    "                                    loss=lambda _: loss_callback.loss,\n",
    "                                    loss_p=lambda _: loss_callback.loss_a,\n",
    "                                    loss_n=lambda _: loss_callback.loss_b,\n",
    "                                    dist_mean=lambda _: centroid_callback.dist_mean,\n",
    "                                    dist_std=lambda _: centroid_callback.dist_std,\n",
    "                                    corr=lambda model: evaluate_model(model, ws))\n",
    "\n",
    "w2v = Word2Vec(alpha=0.025,\n",
    "               min_alpha=0.025,\n",
    "               workers=cpu_count(),\n",
    "               vector_size=100,\n",
    "               window=5,\n",
    "               min_count=3,\n",
    "               sg=1,\n",
    "               negative=5,\n",
    "               )\n",
    "w2v.build_vocab(train_sentences, update=False)\n",
    "idx2word = w2v.wv.index_to_key\n",
    "word2index = w2v.wv.key_to_index"
   ]
  },
  {
   "cell_type": "markdown",
   "metadata": {},
   "source": [
    "## Vectors initialization"
   ]
  },
  {
   "cell_type": "markdown",
   "metadata": {},
   "source": [
    "$$\n",
    "\\left\\{\\begin{matrix}\n",
    "W_{i,j}  & \\sim & \\mathcal{U}\\left(-\\frac{1}{N}, \\frac{1}{N}\\right)  \\\\\n",
    "C_{i,j}  & = & 0\n",
    "\\end{matrix}\\right.\n",
    "$$"
   ]
  },
  {
   "cell_type": "code",
   "execution_count": 19,
   "metadata": {},
   "outputs": [
    {
     "data": {
      "image/png": "[encoded data removed]",
      "text/plain": [
       "<Figure size 1080x576 with 4 Axes>"
      ]
     },
     "metadata": {
      "needs_background": "light"
     },
     "output_type": "display_data"
    }
   ],
   "source": [
    "def show_weight_distribution(w2v):\n",
    "    fig, axs = plt.subplots(figsize=(15,8), ncols=2, nrows=2)\n",
    "    axs[0][0].set_title('Word')\n",
    "    axs[0][0].hist(w2v.wv.vectors.flatten(), bins=300)\n",
    "    axs[0][0].set_ylabel('Frequency')\n",
    "    axs[0][0].set_xlabel('Weight')\n",
    "    axs[0][1].set_title('Context')\n",
    "    axs[0][1].hist(w2v.syn1neg.flatten(), bins=300)\n",
    "    axs[0][1].set_xlabel('Weight')\n",
    "\n",
    "    order = np.argsort(w2v.wv.vectors.mean(axis=0))\n",
    "    axs[1][0].errorbar(np.arange(w2v.vector_size), w2v.wv.vectors.mean(axis=0)[order], w2v.wv.vectors.std(axis=0)[order])\n",
    "    axs[1][0].set_ylabel('Mean weight')\n",
    "    axs[1][0].set_xlabel('Component')\n",
    "    axs[1][1].errorbar(np.arange(w2v.vector_size), w2v.syn1neg.mean(axis=0)[order], w2v.syn1neg.std(axis=0)[order])\n",
    "    #axs[0][0].set_ylabel('Mean weight')\n",
    "    axs[1][1].set_xlabel('Component')\n",
    "    plt.show()\n",
    "    \n",
    "show_weight_distribution(w2v)"
   ]
  },
  {
   "cell_type": "code",
   "execution_count": 20,
   "metadata": {},
   "outputs": [
    {
     "data": {
      "application/vnd.jupyter.widget-view+json": {
       "model_id": "253647acb50a4f0ca62105b106a3bd1a",
       "version_major": 2,
       "version_minor": 0
      },
      "text/plain": [
       "  0%|          | 0/50 [00:00<?, ?epoch/s]"
      ]
     },
     "metadata": {},
     "output_type": "display_data"
    },
    {
     "data": {
      "text/plain": [
       "(363173556, 474607400)"
      ]
     },
     "execution_count": 20,
     "metadata": {},
     "output_type": "execute_result"
    }
   ],
   "source": [
    "w2v.train(corpus_iterable=train_sentences,\n",
    "          total_examples=len(train_sentences),\n",
    "          callbacks=[centroid_callback,\n",
    "                     loss_callback,\n",
    "                     hparams_callback,\n",
    "                     EpochLogger()],\n",
    "          compute_loss=True,\n",
    "          epochs=50)"
   ]
  },
  {
   "cell_type": "code",
   "execution_count": 21,
   "metadata": {},
   "outputs": [],
   "source": [
    "w2v.save(str(MODEL_ROOT/\"final_w2v\"))"
   ]
  },
  {
   "cell_type": "markdown",
   "metadata": {},
   "source": [
    "### Testing model"
   ]
  },
  {
   "cell_type": "code",
   "execution_count": 22,
   "metadata": {},
   "outputs": [
    {
     "data": {
      "text/html": [
       "<div>\n",
       "<style scoped>\n",
       "    .dataframe tbody tr th:only-of-type {\n",
       "        vertical-align: middle;\n",
       "    }\n",
       "\n",
       "    .dataframe tbody tr th {\n",
       "        vertical-align: top;\n",
       "    }\n",
       "\n",
       "    .dataframe thead tr th {\n",
       "        text-align: left;\n",
       "    }\n",
       "\n",
       "    .dataframe thead tr:last-of-type th {\n",
       "        text-align: right;\n",
       "    }\n",
       "</style>\n",
       "<table border=\"1\" class=\"dataframe\">\n",
       "  <thead>\n",
       "    <tr>\n",
       "      <th>rank</th>\n",
       "      <th colspan=\"2\" halign=\"left\">0</th>\n",
       "      <th colspan=\"2\" halign=\"left\">1</th>\n",
       "      <th colspan=\"2\" halign=\"left\">2</th>\n",
       "      <th colspan=\"2\" halign=\"left\">3</th>\n",
       "      <th colspan=\"2\" halign=\"left\">4</th>\n",
       "      <th colspan=\"2\" halign=\"left\">5</th>\n",
       "      <th colspan=\"2\" halign=\"left\">6</th>\n",
       "      <th colspan=\"2\" halign=\"left\">7</th>\n",
       "      <th colspan=\"2\" halign=\"left\">8</th>\n",
       "      <th colspan=\"2\" halign=\"left\">9</th>\n",
       "    </tr>\n",
       "    <tr>\n",
       "      <th></th>\n",
       "      <th>sim_word</th>\n",
       "      <th>similarity</th>\n",
       "      <th>sim_word</th>\n",
       "      <th>similarity</th>\n",
       "      <th>sim_word</th>\n",
       "      <th>similarity</th>\n",
       "      <th>sim_word</th>\n",
       "      <th>similarity</th>\n",
       "      <th>sim_word</th>\n",
       "      <th>similarity</th>\n",
       "      <th>sim_word</th>\n",
       "      <th>similarity</th>\n",
       "      <th>sim_word</th>\n",
       "      <th>similarity</th>\n",
       "      <th>sim_word</th>\n",
       "      <th>similarity</th>\n",
       "      <th>sim_word</th>\n",
       "      <th>similarity</th>\n",
       "      <th>sim_word</th>\n",
       "      <th>similarity</th>\n",
       "    </tr>\n",
       "    <tr>\n",
       "      <th>word</th>\n",
       "      <th></th>\n",
       "      <th></th>\n",
       "      <th></th>\n",
       "      <th></th>\n",
       "      <th></th>\n",
       "      <th></th>\n",
       "      <th></th>\n",
       "      <th></th>\n",
       "      <th></th>\n",
       "      <th></th>\n",
       "      <th></th>\n",
       "      <th></th>\n",
       "      <th></th>\n",
       "      <th></th>\n",
       "      <th></th>\n",
       "      <th></th>\n",
       "      <th></th>\n",
       "      <th></th>\n",
       "      <th></th>\n",
       "      <th></th>\n",
       "    </tr>\n",
       "  </thead>\n",
       "  <tbody>\n",
       "    <tr>\n",
       "      <th>car</th>\n",
       "      <td>vehicle</td>\n",
       "      <td>0.73</td>\n",
       "      <td>cars</td>\n",
       "      <td>0.70</td>\n",
       "      <td>automobile</td>\n",
       "      <td>0.70</td>\n",
       "      <td>motorcycle</td>\n",
       "      <td>0.67</td>\n",
       "      <td>locomotive</td>\n",
       "      <td>0.63</td>\n",
       "      <td>bicycle</td>\n",
       "      <td>0.62</td>\n",
       "      <td>motor</td>\n",
       "      <td>0.61</td>\n",
       "      <td>racing</td>\n",
       "      <td>0.61</td>\n",
       "      <td>truck</td>\n",
       "      <td>0.60</td>\n",
       "      <td>psa</td>\n",
       "      <td>0.60</td>\n",
       "    </tr>\n",
       "    <tr>\n",
       "      <th>computer</th>\n",
       "      <td>computers</td>\n",
       "      <td>0.75</td>\n",
       "      <td>software</td>\n",
       "      <td>0.69</td>\n",
       "      <td>hardware</td>\n",
       "      <td>0.69</td>\n",
       "      <td>computing</td>\n",
       "      <td>0.68</td>\n",
       "      <td>desktop</td>\n",
       "      <td>0.65</td>\n",
       "      <td>cpu</td>\n",
       "      <td>0.65</td>\n",
       "      <td>evolvable</td>\n",
       "      <td>0.64</td>\n",
       "      <td>processors</td>\n",
       "      <td>0.64</td>\n",
       "      <td>technology</td>\n",
       "      <td>0.63</td>\n",
       "      <td>microcontroller</td>\n",
       "      <td>0.63</td>\n",
       "    </tr>\n",
       "    <tr>\n",
       "      <th>cup</th>\n",
       "      <td>uefa</td>\n",
       "      <td>0.79</td>\n",
       "      <td>finals</td>\n",
       "      <td>0.76</td>\n",
       "      <td>championship</td>\n",
       "      <td>0.74</td>\n",
       "      <td>champions</td>\n",
       "      <td>0.73</td>\n",
       "      <td>tournament</td>\n",
       "      <td>0.71</td>\n",
       "      <td>championships</td>\n",
       "      <td>0.69</td>\n",
       "      <td>fa</td>\n",
       "      <td>0.68</td>\n",
       "      <td>trophy</td>\n",
       "      <td>0.66</td>\n",
       "      <td>coppa</td>\n",
       "      <td>0.66</td>\n",
       "      <td>cups</td>\n",
       "      <td>0.66</td>\n",
       "    </tr>\n",
       "    <tr>\n",
       "      <th>doctor</th>\n",
       "      <td>harkness</td>\n",
       "      <td>0.62</td>\n",
       "      <td>dr</td>\n",
       "      <td>0.59</td>\n",
       "      <td>mcgann</td>\n",
       "      <td>0.57</td>\n",
       "      <td>surgeon</td>\n",
       "      <td>0.55</td>\n",
       "      <td>physician</td>\n",
       "      <td>0.55</td>\n",
       "      <td>torchwood</td>\n",
       "      <td>0.53</td>\n",
       "      <td>pharmacist</td>\n",
       "      <td>0.53</td>\n",
       "      <td>father</td>\n",
       "      <td>0.53</td>\n",
       "      <td>hackett</td>\n",
       "      <td>0.53</td>\n",
       "      <td>himself</td>\n",
       "      <td>0.53</td>\n",
       "    </tr>\n",
       "    <tr>\n",
       "      <th>dollar</th>\n",
       "      <td>dkr</td>\n",
       "      <td>0.71</td>\n",
       "      <td>ngultrum</td>\n",
       "      <td>0.68</td>\n",
       "      <td>kroner</td>\n",
       "      <td>0.68</td>\n",
       "      <td>krone</td>\n",
       "      <td>0.66</td>\n",
       "      <td>cfaf</td>\n",
       "      <td>0.66</td>\n",
       "      <td>forint</td>\n",
       "      <td>0.66</td>\n",
       "      <td>dollars</td>\n",
       "      <td>0.65</td>\n",
       "      <td>pesos</td>\n",
       "      <td>0.64</td>\n",
       "      <td>francs</td>\n",
       "      <td>0.64</td>\n",
       "      <td>centavos</td>\n",
       "      <td>0.63</td>\n",
       "    </tr>\n",
       "    <tr>\n",
       "      <th>drink</th>\n",
       "      <td>drinks</td>\n",
       "      <td>0.71</td>\n",
       "      <td>alcoholic</td>\n",
       "      <td>0.65</td>\n",
       "      <td>honey</td>\n",
       "      <td>0.64</td>\n",
       "      <td>wine</td>\n",
       "      <td>0.63</td>\n",
       "      <td>beer</td>\n",
       "      <td>0.62</td>\n",
       "      <td>beverage</td>\n",
       "      <td>0.62</td>\n",
       "      <td>beverages</td>\n",
       "      <td>0.61</td>\n",
       "      <td>bread</td>\n",
       "      <td>0.61</td>\n",
       "      <td>spezi</td>\n",
       "      <td>0.61</td>\n",
       "      <td>dispense</td>\n",
       "      <td>0.60</td>\n",
       "    </tr>\n",
       "    <tr>\n",
       "      <th>food</th>\n",
       "      <td>foods</td>\n",
       "      <td>0.69</td>\n",
       "      <td>vegetables</td>\n",
       "      <td>0.69</td>\n",
       "      <td>potatoes</td>\n",
       "      <td>0.67</td>\n",
       "      <td>chemicals</td>\n",
       "      <td>0.66</td>\n",
       "      <td>dietary</td>\n",
       "      <td>0.65</td>\n",
       "      <td>fish</td>\n",
       "      <td>0.64</td>\n",
       "      <td>irradiation</td>\n",
       "      <td>0.64</td>\n",
       "      <td>sugarbeets</td>\n",
       "      <td>0.63</td>\n",
       "      <td>meat</td>\n",
       "      <td>0.63</td>\n",
       "      <td>fruit</td>\n",
       "      <td>0.63</td>\n",
       "    </tr>\n",
       "    <tr>\n",
       "      <th>game</th>\n",
       "      <td>games</td>\n",
       "      <td>0.78</td>\n",
       "      <td>console</td>\n",
       "      <td>0.72</td>\n",
       "      <td>arcade</td>\n",
       "      <td>0.70</td>\n",
       "      <td>video</td>\n",
       "      <td>0.70</td>\n",
       "      <td>consoles</td>\n",
       "      <td>0.68</td>\n",
       "      <td>gaming</td>\n",
       "      <td>0.64</td>\n",
       "      <td>nintendo</td>\n",
       "      <td>0.64</td>\n",
       "      <td>infocom</td>\n",
       "      <td>0.62</td>\n",
       "      <td>multiplayer</td>\n",
       "      <td>0.62</td>\n",
       "      <td>play</td>\n",
       "      <td>0.62</td>\n",
       "    </tr>\n",
       "    <tr>\n",
       "      <th>life</th>\n",
       "      <td>death</td>\n",
       "      <td>0.56</td>\n",
       "      <td>welfare</td>\n",
       "      <td>0.54</td>\n",
       "      <td>personal</td>\n",
       "      <td>0.54</td>\n",
       "      <td>toil</td>\n",
       "      <td>0.53</td>\n",
       "      <td>health</td>\n",
       "      <td>0.52</td>\n",
       "      <td>birth</td>\n",
       "      <td>0.52</td>\n",
       "      <td>expectancy</td>\n",
       "      <td>0.52</td>\n",
       "      <td>home</td>\n",
       "      <td>0.52</td>\n",
       "      <td>family</td>\n",
       "      <td>0.51</td>\n",
       "      <td>human</td>\n",
       "      <td>0.51</td>\n",
       "    </tr>\n",
       "    <tr>\n",
       "      <th>money</th>\n",
       "      <td>loans</td>\n",
       "      <td>0.66</td>\n",
       "      <td>cash</td>\n",
       "      <td>0.65</td>\n",
       "      <td>profits</td>\n",
       "      <td>0.64</td>\n",
       "      <td>funds</td>\n",
       "      <td>0.62</td>\n",
       "      <td>amounts</td>\n",
       "      <td>0.62</td>\n",
       "      <td>reinvested</td>\n",
       "      <td>0.62</td>\n",
       "      <td>investments</td>\n",
       "      <td>0.62</td>\n",
       "      <td>subsidies</td>\n",
       "      <td>0.61</td>\n",
       "      <td>paying</td>\n",
       "      <td>0.60</td>\n",
       "      <td>dividends</td>\n",
       "      <td>0.60</td>\n",
       "    </tr>\n",
       "    <tr>\n",
       "      <th>movie</th>\n",
       "      <td>film</td>\n",
       "      <td>0.75</td>\n",
       "      <td>movies</td>\n",
       "      <td>0.70</td>\n",
       "      <td>actor</td>\n",
       "      <td>0.67</td>\n",
       "      <td>hollywood</td>\n",
       "      <td>0.66</td>\n",
       "      <td>actors</td>\n",
       "      <td>0.65</td>\n",
       "      <td>starring</td>\n",
       "      <td>0.64</td>\n",
       "      <td>television</td>\n",
       "      <td>0.62</td>\n",
       "      <td>character</td>\n",
       "      <td>0.62</td>\n",
       "      <td>tv</td>\n",
       "      <td>0.61</td>\n",
       "      <td>films</td>\n",
       "      <td>0.61</td>\n",
       "    </tr>\n",
       "    <tr>\n",
       "      <th>news</th>\n",
       "      <td>bulletin</td>\n",
       "      <td>0.63</td>\n",
       "      <td>wsb</td>\n",
       "      <td>0.62</td>\n",
       "      <td>espn</td>\n",
       "      <td>0.62</td>\n",
       "      <td>bbc</td>\n",
       "      <td>0.61</td>\n",
       "      <td>wgbs</td>\n",
       "      <td>0.61</td>\n",
       "      <td>cnn</td>\n",
       "      <td>0.59</td>\n",
       "      <td>itn</td>\n",
       "      <td>0.59</td>\n",
       "      <td>newspapers</td>\n",
       "      <td>0.58</td>\n",
       "      <td>ctv</td>\n",
       "      <td>0.58</td>\n",
       "      <td>ijustgotfired</td>\n",
       "      <td>0.57</td>\n",
       "    </tr>\n",
       "    <tr>\n",
       "      <th>peace</th>\n",
       "      <td>signing</td>\n",
       "      <td>0.64</td>\n",
       "      <td>accords</td>\n",
       "      <td>0.64</td>\n",
       "      <td>pact</td>\n",
       "      <td>0.62</td>\n",
       "      <td>agreement</td>\n",
       "      <td>0.62</td>\n",
       "      <td>signed</td>\n",
       "      <td>0.60</td>\n",
       "      <td>lunéville</td>\n",
       "      <td>0.60</td>\n",
       "      <td>passarowitz</td>\n",
       "      <td>0.60</td>\n",
       "      <td>reconciliation</td>\n",
       "      <td>0.59</td>\n",
       "      <td>truce</td>\n",
       "      <td>0.59</td>\n",
       "      <td>negotiations</td>\n",
       "      <td>0.59</td>\n",
       "    </tr>\n",
       "    <tr>\n",
       "      <th>planet</th>\n",
       "      <td>planets</td>\n",
       "      <td>0.74</td>\n",
       "      <td>mars</td>\n",
       "      <td>0.73</td>\n",
       "      <td>earth</td>\n",
       "      <td>0.72</td>\n",
       "      <td>solar</td>\n",
       "      <td>0.68</td>\n",
       "      <td>orbiting</td>\n",
       "      <td>0.67</td>\n",
       "      <td>moon</td>\n",
       "      <td>0.67</td>\n",
       "      <td>planetary</td>\n",
       "      <td>0.66</td>\n",
       "      <td>habitable</td>\n",
       "      <td>0.65</td>\n",
       "      <td>galaxy</td>\n",
       "      <td>0.63</td>\n",
       "      <td>orbit</td>\n",
       "      <td>0.62</td>\n",
       "    </tr>\n",
       "    <tr>\n",
       "      <th>precedent</th>\n",
       "      <td>decisis</td>\n",
       "      <td>0.58</td>\n",
       "      <td>unwritten</td>\n",
       "      <td>0.54</td>\n",
       "      <td>constitutional</td>\n",
       "      <td>0.54</td>\n",
       "      <td>warrant</td>\n",
       "      <td>0.52</td>\n",
       "      <td>majoritarianism</td>\n",
       "      <td>0.52</td>\n",
       "      <td>protection</td>\n",
       "      <td>0.51</td>\n",
       "      <td>absolutism</td>\n",
       "      <td>0.51</td>\n",
       "      <td>governmental</td>\n",
       "      <td>0.51</td>\n",
       "      <td>erdoğan</td>\n",
       "      <td>0.50</td>\n",
       "      <td>decree</td>\n",
       "      <td>0.50</td>\n",
       "    </tr>\n",
       "    <tr>\n",
       "      <th>psychology</th>\n",
       "      <td>cognitive</td>\n",
       "      <td>0.73</td>\n",
       "      <td>sociology</td>\n",
       "      <td>0.71</td>\n",
       "      <td>anthropology</td>\n",
       "      <td>0.70</td>\n",
       "      <td>science</td>\n",
       "      <td>0.67</td>\n",
       "      <td>sciences</td>\n",
       "      <td>0.67</td>\n",
       "      <td>neurobiology</td>\n",
       "      <td>0.67</td>\n",
       "      <td>psychopathology</td>\n",
       "      <td>0.67</td>\n",
       "      <td>biology</td>\n",
       "      <td>0.66</td>\n",
       "      <td>ethology</td>\n",
       "      <td>0.64</td>\n",
       "      <td>psychiatry</td>\n",
       "      <td>0.63</td>\n",
       "    </tr>\n",
       "    <tr>\n",
       "      <th>stock</th>\n",
       "      <td>assets</td>\n",
       "      <td>0.62</td>\n",
       "      <td>market</td>\n",
       "      <td>0.62</td>\n",
       "      <td>price</td>\n",
       "      <td>0.62</td>\n",
       "      <td>purchase</td>\n",
       "      <td>0.59</td>\n",
       "      <td>investors</td>\n",
       "      <td>0.59</td>\n",
       "      <td>convertible</td>\n",
       "      <td>0.58</td>\n",
       "      <td>securities</td>\n",
       "      <td>0.58</td>\n",
       "      <td>commodity</td>\n",
       "      <td>0.57</td>\n",
       "      <td>consignment</td>\n",
       "      <td>0.57</td>\n",
       "      <td>reinvested</td>\n",
       "      <td>0.56</td>\n",
       "    </tr>\n",
       "    <tr>\n",
       "      <th>street</th>\n",
       "      <td>chedoke</td>\n",
       "      <td>0.63</td>\n",
       "      <td>avenue</td>\n",
       "      <td>0.63</td>\n",
       "      <td>flamborough</td>\n",
       "      <td>0.61</td>\n",
       "      <td>london</td>\n",
       "      <td>0.61</td>\n",
       "      <td>streets</td>\n",
       "      <td>0.60</td>\n",
       "      <td>road</td>\n",
       "      <td>0.59</td>\n",
       "      <td>thoroughfare</td>\n",
       "      <td>0.59</td>\n",
       "      <td>kingsbridge</td>\n",
       "      <td>0.58</td>\n",
       "      <td>southwold</td>\n",
       "      <td>0.58</td>\n",
       "      <td>allentown</td>\n",
       "      <td>0.57</td>\n",
       "    </tr>\n",
       "    <tr>\n",
       "      <th>tiger</th>\n",
       "      <td>gizmondo</td>\n",
       "      <td>0.62</td>\n",
       "      <td>leopard</td>\n",
       "      <td>0.58</td>\n",
       "      <td>leafs</td>\n",
       "      <td>0.54</td>\n",
       "      <td>jaguar</td>\n",
       "      <td>0.54</td>\n",
       "      <td>thylacine</td>\n",
       "      <td>0.54</td>\n",
       "      <td>cats</td>\n",
       "      <td>0.54</td>\n",
       "      <td>zoo</td>\n",
       "      <td>0.53</td>\n",
       "      <td>tigers</td>\n",
       "      <td>0.51</td>\n",
       "      <td>tapwave</td>\n",
       "      <td>0.51</td>\n",
       "      <td>tasmanian</td>\n",
       "      <td>0.50</td>\n",
       "    </tr>\n",
       "  </tbody>\n",
       "</table>\n",
       "</div>"
      ],
      "text/plain": [
       "rank                0                      1                          2  \\\n",
       "             sim_word similarity    sim_word similarity        sim_word   \n",
       "word                                                                      \n",
       "car           vehicle       0.73        cars       0.70      automobile   \n",
       "computer    computers       0.75    software       0.69        hardware   \n",
       "cup              uefa       0.79      finals       0.76    championship   \n",
       "doctor       harkness       0.62          dr       0.59          mcgann   \n",
       "dollar            dkr       0.71    ngultrum       0.68          kroner   \n",
       "drink          drinks       0.71   alcoholic       0.65           honey   \n",
       "food            foods       0.69  vegetables       0.69        potatoes   \n",
       "game            games       0.78     console       0.72          arcade   \n",
       "life            death       0.56     welfare       0.54        personal   \n",
       "money           loans       0.66        cash       0.65         profits   \n",
       "movie            film       0.75      movies       0.70           actor   \n",
       "news         bulletin       0.63         wsb       0.62            espn   \n",
       "peace         signing       0.64     accords       0.64            pact   \n",
       "planet        planets       0.74        mars       0.73           earth   \n",
       "precedent     decisis       0.58   unwritten       0.54  constitutional   \n",
       "psychology  cognitive       0.73   sociology       0.71    anthropology   \n",
       "stock          assets       0.62      market       0.62           price   \n",
       "street        chedoke       0.63      avenue       0.63     flamborough   \n",
       "tiger        gizmondo       0.62     leopard       0.58           leafs   \n",
       "\n",
       "rank                            3                           4             \\\n",
       "           similarity    sim_word similarity         sim_word similarity   \n",
       "word                                                                       \n",
       "car              0.70  motorcycle       0.67       locomotive       0.63   \n",
       "computer         0.69   computing       0.68          desktop       0.65   \n",
       "cup              0.74   champions       0.73       tournament       0.71   \n",
       "doctor           0.57     surgeon       0.55        physician       0.55   \n",
       "dollar           0.68       krone       0.66             cfaf       0.66   \n",
       "drink            0.64        wine       0.63             beer       0.62   \n",
       "food             0.67   chemicals       0.66          dietary       0.65   \n",
       "game             0.70       video       0.70         consoles       0.68   \n",
       "life             0.54        toil       0.53           health       0.52   \n",
       "money            0.64       funds       0.62          amounts       0.62   \n",
       "movie            0.67   hollywood       0.66           actors       0.65   \n",
       "news             0.62         bbc       0.61             wgbs       0.61   \n",
       "peace            0.62   agreement       0.62           signed       0.60   \n",
       "planet           0.72       solar       0.68         orbiting       0.67   \n",
       "precedent        0.54     warrant       0.52  majoritarianism       0.52   \n",
       "psychology       0.70     science       0.67         sciences       0.67   \n",
       "stock            0.62    purchase       0.59        investors       0.59   \n",
       "street           0.61      london       0.61          streets       0.60   \n",
       "tiger            0.54      jaguar       0.54        thylacine       0.54   \n",
       "\n",
       "rank                    5                           6             \\\n",
       "                 sim_word similarity         sim_word similarity   \n",
       "word                                                               \n",
       "car               bicycle       0.62            motor       0.61   \n",
       "computer              cpu       0.65        evolvable       0.64   \n",
       "cup         championships       0.69               fa       0.68   \n",
       "doctor          torchwood       0.53       pharmacist       0.53   \n",
       "dollar             forint       0.66          dollars       0.65   \n",
       "drink            beverage       0.62        beverages       0.61   \n",
       "food                 fish       0.64      irradiation       0.64   \n",
       "game               gaming       0.64         nintendo       0.64   \n",
       "life                birth       0.52       expectancy       0.52   \n",
       "money          reinvested       0.62      investments       0.62   \n",
       "movie            starring       0.64       television       0.62   \n",
       "news                  cnn       0.59              itn       0.59   \n",
       "peace           lunéville       0.60      passarowitz       0.60   \n",
       "planet               moon       0.67        planetary       0.66   \n",
       "precedent      protection       0.51       absolutism       0.51   \n",
       "psychology   neurobiology       0.67  psychopathology       0.67   \n",
       "stock         convertible       0.58       securities       0.58   \n",
       "street               road       0.59     thoroughfare       0.59   \n",
       "tiger                cats       0.54              zoo       0.53   \n",
       "\n",
       "rank                     7                       8             \\\n",
       "                  sim_word similarity     sim_word similarity   \n",
       "word                                                            \n",
       "car                 racing       0.61        truck       0.60   \n",
       "computer        processors       0.64   technology       0.63   \n",
       "cup                 trophy       0.66        coppa       0.66   \n",
       "doctor              father       0.53      hackett       0.53   \n",
       "dollar               pesos       0.64       francs       0.64   \n",
       "drink                bread       0.61        spezi       0.61   \n",
       "food            sugarbeets       0.63         meat       0.63   \n",
       "game               infocom       0.62  multiplayer       0.62   \n",
       "life                  home       0.52       family       0.51   \n",
       "money            subsidies       0.61       paying       0.60   \n",
       "movie            character       0.62           tv       0.61   \n",
       "news            newspapers       0.58          ctv       0.58   \n",
       "peace       reconciliation       0.59        truce       0.59   \n",
       "planet           habitable       0.65       galaxy       0.63   \n",
       "precedent     governmental       0.51      erdoğan       0.50   \n",
       "psychology         biology       0.66     ethology       0.64   \n",
       "stock            commodity       0.57  consignment       0.57   \n",
       "street         kingsbridge       0.58    southwold       0.58   \n",
       "tiger               tigers       0.51      tapwave       0.51   \n",
       "\n",
       "rank                      9             \n",
       "                   sim_word similarity  \n",
       "word                                    \n",
       "car                     psa       0.60  \n",
       "computer    microcontroller       0.63  \n",
       "cup                    cups       0.66  \n",
       "doctor              himself       0.53  \n",
       "dollar             centavos       0.63  \n",
       "drink              dispense       0.60  \n",
       "food                  fruit       0.63  \n",
       "game                   play       0.62  \n",
       "life                  human       0.51  \n",
       "money             dividends       0.60  \n",
       "movie                 films       0.61  \n",
       "news          ijustgotfired       0.57  \n",
       "peace          negotiations       0.59  \n",
       "planet                orbit       0.62  \n",
       "precedent            decree       0.50  \n",
       "psychology       psychiatry       0.63  \n",
       "stock            reinvested       0.56  \n",
       "street            allentown       0.57  \n",
       "tiger             tasmanian       0.50  "
      ]
     },
     "execution_count": 22,
     "metadata": {},
     "output_type": "execute_result"
    }
   ],
   "source": [
    "test_words = [\n",
    "    'money',     'psychology',  'tiger',    'cup',    'stock',   'planet', 'car',\n",
    "    'precedent', 'drink',       'peace',    'food',   'news',   'game',   'doctor',\n",
    "    'life',      'dollar',      'computer', 'street', 'movie'\n",
    "]\n",
    "\n",
    "df_test_result = pd.DataFrame.from_records([\n",
    "    {'word': word, 'sim_word': sim_word, 'similarity': round(sim, 2), 'rank': rank}\n",
    "    for word in test_words\n",
    "    for rank, (sim_word, sim) in enumerate(w2v.wv.most_similar(word))\n",
    "]).set_index(['word', 'rank']).unstack(level=1)\n",
    "df_test_result.columns = df_test_result.columns.swaplevel()\n",
    "df_test_result.sort_index(axis=1, level=0, inplace=True)\n",
    "df_test_result"
   ]
  },
  {
   "cell_type": "markdown",
   "metadata": {},
   "source": [
    "## Experiments results"
   ]
  },
  {
   "cell_type": "markdown",
   "metadata": {},
   "source": [
    "### Weigth distribution"
   ]
  },
  {
   "cell_type": "code",
   "execution_count": 23,
   "metadata": {},
   "outputs": [
    {
     "data": {
      "image/png": "[encoded data removed]",
      "text/plain": [
       "<Figure size 1080x576 with 4 Axes>"
      ]
     },
     "metadata": {
      "needs_background": "light"
     },
     "output_type": "display_data"
    }
   ],
   "source": [
    "show_weight_distribution(w2v)"
   ]
  },
  {
   "cell_type": "markdown",
   "metadata": {},
   "source": [
    "### Loss"
   ]
  },
  {
   "cell_type": "code",
   "execution_count": 24,
   "metadata": {},
   "outputs": [],
   "source": [
    "params_hist = pd.DataFrame.from_records(hparams_callback._params_hist)"
   ]
  },
  {
   "cell_type": "code",
   "execution_count": 25,
   "metadata": {},
   "outputs": [
    {
     "data": {
      "text/plain": [
       "<matplotlib.legend.Legend at 0x7f0dad2faee0>"
      ]
     },
     "execution_count": 25,
     "metadata": {},
     "output_type": "execute_result"
    },
    {
     "data": {
      "image/png": "[encoded data removed]",
      "text/plain": [
       "<Figure size 1440x360 with 2 Axes>"
      ]
     },
     "metadata": {
      "needs_background": "light"
     },
     "output_type": "display_data"
    }
   ],
   "source": [
    "fig, axs = plt.subplots(figsize=(20, 5), ncols=2)\n",
    "params_hist[['loss', 'loss_p', 'loss_n']].plot(ax=axs[0], title='Loss')\n",
    "(params_hist[['loss_p', 'loss_n']]).plot(ax=axs[1], title='Loss by Term')\n",
    "plt.legend()"
   ]
  },
  {
   "cell_type": "markdown",
   "metadata": {},
   "source": [
    "### WordSim metric"
   ]
  },
  {
   "cell_type": "code",
   "execution_count": 26,
   "metadata": {},
   "outputs": [
    {
     "data": {
      "image/png": "[encoded data removed]",
      "text/plain": [
       "<Figure size 432x288 with 1 Axes>"
      ]
     },
     "metadata": {
      "needs_background": "light"
     },
     "output_type": "display_data"
    }
   ],
   "source": [
    "params_hist['corr'].plot(title='Performance')\n",
    "\n",
    "plt.show()"
   ]
  },
  {
   "cell_type": "markdown",
   "metadata": {},
   "source": [
    "### Centroid shift"
   ]
  },
  {
   "cell_type": "code",
   "execution_count": 27,
   "metadata": {
    "tags": []
   },
   "outputs": [],
   "source": [
    "def show_centroid_shift(centroids, epoch_split=3):\n",
    "    epochs = centroids.shape[0]-1\n",
    "    shift_norm_centroid_hist = rowise_distance(centroids[1:],centroids[:-1])\n",
    "    shift_sim_centroid_hist = rowise_cosine_sim(centroids[1:],centroids[:-1])\n",
    "\n",
    "    fig, axs = plt.subplots(figsize=(20, 10), ncols=3, nrows=2)\n",
    "\n",
    "    \n",
    "    axs[0][0].set_title(f\"First {epoch_split} epochs\")\n",
    "    axs[0][0].set_ylabel(\"Distance\")\n",
    "    axs[0][0].plot(range(1,epoch_split+1),shift_norm_centroid_hist[:epoch_split])\n",
    "    axs[0][1].set_ylabel(\"Distance\")\n",
    "    axs[0][1].set_title(f\"Last {epochs-epoch_split} epochs\")\n",
    "    axs[0][1].plot(range(epoch_split+1,epochs+1),shift_norm_centroid_hist[epoch_split:])\n",
    "    axs[0][2].set_title(f\"All\")\n",
    "    axs[0][2].set_ylabel(\"Distance\")\n",
    "    axs[0][2].plot(range(1,epochs+1),shift_norm_centroid_hist)\n",
    "\n",
    "    axs[1][0].set_title(f\"First {epoch_split} epochs\")\n",
    "    axs[1][0].set_ylabel(\"Similarity\")\n",
    "    axs[1][0].plot(range(1,epoch_split+1),shift_sim_centroid_hist[:epoch_split])\n",
    "    axs[1][1].set_ylabel(\"Similarity\")\n",
    "    axs[1][1].set_title(f\"Last {epochs-epoch_split} epochs\")\n",
    "    axs[1][1].plot(range(epoch_split+1,epochs+1),shift_sim_centroid_hist[epoch_split:])\n",
    "    axs[1][2].set_title(f\"All\")\n",
    "    axs[1][2].set_ylabel(\"Similarity\")\n",
    "    axs[1][2].plot(range(1,epochs+1),shift_sim_centroid_hist)"
   ]
  },
  {
   "cell_type": "markdown",
   "metadata": {},
   "source": [
    "Medida de que tan se aleja (en distancia $L^2$ y ánglulo) el centroide al terminar una epocá con respecto al centroide de la epoca anterior"
   ]
  },
  {
   "cell_type": "code",
   "execution_count": 28,
   "metadata": {
    "colab": {
     "base_uri": "https://localhost:8080/",
     "height": 624
    },
    "id": "VvmHRX6omVnL",
    "outputId": "a9fc934e-a544-4128-cd79-04fd0bc4da83"
   },
   "outputs": [
    {
     "data": {
      "image/png": "[encoded data removed]",
      "text/plain": [
       "<Figure size 1440x720 with 6 Axes>"
      ]
     },
     "metadata": {
      "needs_background": "light"
     },
     "output_type": "display_data"
    }
   ],
   "source": [
    "show_centroid_shift(centroid_callback.centroids)\n",
    "plt.show()"
   ]
  },
  {
   "cell_type": "markdown",
   "metadata": {},
   "source": [
    "### Centroids Space"
   ]
  },
  {
   "cell_type": "markdown",
   "metadata": {},
   "source": [
    "Proyección PCA del historial de centroides en el espacio de embeddings"
   ]
  },
  {
   "cell_type": "code",
   "execution_count": 29,
   "metadata": {},
   "outputs": [
    {
     "data": {
      "image/png": "[encoded data removed]",
      "text/plain": [
       "<Figure size 432x288 with 1 Axes>"
      ]
     },
     "metadata": {
      "needs_background": "light"
     },
     "output_type": "display_data"
    }
   ],
   "source": [
    "pca=PCA(n_components=2).fit(w2v.wv.vectors)\n",
    "centroids_reduced = pca.transform(centroid_callback.centroids)\n",
    "plt.plot(centroids_reduced[:,0], centroids_reduced[:,1])\n",
    "for i in range(0, centroids_reduced.shape[0], 5):\n",
    "    plt.text(centroids_reduced[i,0],\n",
    "             centroids_reduced[i,1],\n",
    "             str(i))"
   ]
  },
  {
   "cell_type": "markdown",
   "metadata": {},
   "source": [
    "### Distance to centroid"
   ]
  },
  {
   "cell_type": "code",
   "execution_count": 30,
   "metadata": {},
   "outputs": [
    {
     "data": {
      "image/png": "[encoded data removed]",
      "text/plain": [
       "<Figure size 1440x576 with 1 Axes>"
      ]
     },
     "metadata": {
      "needs_background": "light"
     },
     "output_type": "display_data"
    }
   ],
   "source": [
    "fig = plt.figure(figsize=(20, 8))\n",
    "ax = fig.gca()\n",
    "ax.errorbar(x=np.arange(len(centroid_callback._dist_means)), y=centroid_callback._dist_means, yerr=centroid_callback._dist_stds)\n",
    "plt.show()"
   ]
  }
 ],
 "metadata": {
  "colab": {
   "collapsed_sections": [],
   "name": "W2V Stability.ipynb",
   "provenance": []
  },
  "kernelspec": {
   "display_name": "Python 3.9.5 64-bit",
   "language": "python",
   "name": "python39564bit272ab384b33c45a4bc8a52dcd77cb790"
  },
  "language_info": {
   "codemirror_mode": {
    "name": "ipython",
    "version": 3
   },
   "file_extension": ".py",
   "mimetype": "text/x-python",
   "name": "python",
   "nbconvert_exporter": "python",
   "pygments_lexer": "ipython3",
   "version": "3.9.7"
  },
  "widgets": {
   "application/vnd.jupyter.widget-state+json": {
    "state": {
     "04c2b30b63bd486c82c693a699a4ba8a": {
      "model_module": "@jupyter-widgets/controls",
      "model_module_version": "1.5.0",
      "model_name": "FloatProgressModel",
      "state": {
       "bar_style": "success",
       "layout": "IPY_MODEL_4b65761f8cca46b184d0ca27e95c7571",
       "max": 50,
       "style": "IPY_MODEL_320f3e3c1bc545f08bdbba7c1f176abb",
       "value": 50
      }
     },
     "149bd5e6fae54fa4a97d58f4c970a2ce": {
      "model_module": "@jupyter-widgets/base",
      "model_module_version": "1.2.0",
      "model_name": "LayoutModel",
      "state": {}
     },
     "18fdfbf5147849babe021bd7c2e639d9": {
      "model_module": "@jupyter-widgets/controls",
      "model_module_version": "1.5.0",
      "model_name": "HTMLModel",
      "state": {
       "layout": "IPY_MODEL_149bd5e6fae54fa4a97d58f4c970a2ce",
       "style": "IPY_MODEL_4ff5a27207fa423aabc3a1aa6bf62af9",
       "value": "100%"
      }
     },
     "253647acb50a4f0ca62105b106a3bd1a": {
      "model_module": "@jupyter-widgets/controls",
      "model_module_version": "1.5.0",
      "model_name": "HBoxModel",
      "state": {
       "children": [
        "IPY_MODEL_18fdfbf5147849babe021bd7c2e639d9",
        "IPY_MODEL_04c2b30b63bd486c82c693a699a4ba8a",
        "IPY_MODEL_99a17d1bb26e423eb8cb26b081c69c40"
       ],
       "layout": "IPY_MODEL_da78eefdc23c420bb25fadfaeb2445fc"
      }
     },
     "315ebbe566274b298cb967d3828e752d": {
      "model_module": "@jupyter-widgets/controls",
      "model_module_version": "1.5.0",
      "model_name": "HTMLModel",
      "state": {
       "layout": "IPY_MODEL_c8f1b486f4e443c0b46ebc1e4ef62bcc",
       "style": "IPY_MODEL_d84e38ef34714e9a832f93c2890b668f",
       "value": "100%"
      }
     },
     "320f3e3c1bc545f08bdbba7c1f176abb": {
      "model_module": "@jupyter-widgets/controls",
      "model_module_version": "1.5.0",
      "model_name": "ProgressStyleModel",
      "state": {
       "description_width": ""
      }
     },
     "3b58e6b683254a10ab275eb89fb9e4eb": {
      "model_module": "@jupyter-widgets/base",
      "model_module_version": "1.2.0",
      "model_name": "LayoutModel",
      "state": {}
     },
     "4b65761f8cca46b184d0ca27e95c7571": {
      "model_module": "@jupyter-widgets/base",
      "model_module_version": "1.2.0",
      "model_name": "LayoutModel",
      "state": {}
     },
     "4ff5a27207fa423aabc3a1aa6bf62af9": {
      "model_module": "@jupyter-widgets/controls",
      "model_module_version": "1.5.0",
      "model_name": "DescriptionStyleModel",
      "state": {
       "description_width": ""
      }
     },
     "75d59823000b477f80706030c0d81883": {
      "model_module": "@jupyter-widgets/base",
      "model_module_version": "1.2.0",
      "model_name": "LayoutModel",
      "state": {}
     },
     "7de205f67935483a840446533f167bd4": {
      "model_module": "@jupyter-widgets/controls",
      "model_module_version": "1.5.0",
      "model_name": "ProgressStyleModel",
      "state": {
       "description_width": ""
      }
     },
     "81f81db349f9468a977675b62bb1e1e6": {
      "model_module": "@jupyter-widgets/controls",
      "model_module_version": "1.5.0",
      "model_name": "HTMLModel",
      "state": {
       "layout": "IPY_MODEL_75d59823000b477f80706030c0d81883",
       "style": "IPY_MODEL_e7e175a9ece2408da643d67c3e0adf1b",
       "value": " 445444/445444 [00:05&lt;00:00, 96254.12it/s]"
      }
     },
     "99a17d1bb26e423eb8cb26b081c69c40": {
      "model_module": "@jupyter-widgets/controls",
      "model_module_version": "1.5.0",
      "model_name": "HTMLModel",
      "state": {
       "layout": "IPY_MODEL_c2c38da5fe2543c284ff4811fce69cc1",
       "style": "IPY_MODEL_fbcf46df4a2d40c4b02a02f0d1fd97f4",
       "value": " 50/50 [05:01&lt;00:00,  6.12s/epoch, alpha=0.025, corr=0.618, dist_mean=4.53, dist_std=0.687, loss=1.61e+5, loss_n=3.1e+5, loss_p=1.53e+5]"
      }
     },
     "b6db2c6c5db84a068ea9629993bd8c2f": {
      "model_module": "@jupyter-widgets/base",
      "model_module_version": "1.2.0",
      "model_name": "LayoutModel",
      "state": {}
     },
     "c2c38da5fe2543c284ff4811fce69cc1": {
      "model_module": "@jupyter-widgets/base",
      "model_module_version": "1.2.0",
      "model_name": "LayoutModel",
      "state": {}
     },
     "c4a4f6843f9842cd9d1ac7a33d39a0a2": {
      "model_module": "@jupyter-widgets/controls",
      "model_module_version": "1.5.0",
      "model_name": "FloatProgressModel",
      "state": {
       "bar_style": "success",
       "layout": "IPY_MODEL_3b58e6b683254a10ab275eb89fb9e4eb",
       "max": 445444,
       "style": "IPY_MODEL_7de205f67935483a840446533f167bd4",
       "value": 445444
      }
     },
     "c8f1b486f4e443c0b46ebc1e4ef62bcc": {
      "model_module": "@jupyter-widgets/base",
      "model_module_version": "1.2.0",
      "model_name": "LayoutModel",
      "state": {}
     },
     "d84e38ef34714e9a832f93c2890b668f": {
      "model_module": "@jupyter-widgets/controls",
      "model_module_version": "1.5.0",
      "model_name": "DescriptionStyleModel",
      "state": {
       "description_width": ""
      }
     },
     "da78eefdc23c420bb25fadfaeb2445fc": {
      "model_module": "@jupyter-widgets/base",
      "model_module_version": "1.2.0",
      "model_name": "LayoutModel",
      "state": {}
     },
     "e583b6aad2e24c69a69c80f9c748d62d": {
      "model_module": "@jupyter-widgets/controls",
      "model_module_version": "1.5.0",
      "model_name": "HBoxModel",
      "state": {
       "children": [
        "IPY_MODEL_315ebbe566274b298cb967d3828e752d",
        "IPY_MODEL_c4a4f6843f9842cd9d1ac7a33d39a0a2",
        "IPY_MODEL_81f81db349f9468a977675b62bb1e1e6"
       ],
       "layout": "IPY_MODEL_b6db2c6c5db84a068ea9629993bd8c2f"
      }
     },
     "e7e175a9ece2408da643d67c3e0adf1b": {
      "model_module": "@jupyter-widgets/controls",
      "model_module_version": "1.5.0",
      "model_name": "DescriptionStyleModel",
      "state": {
       "description_width": ""
      }
     },
     "fbcf46df4a2d40c4b02a02f0d1fd97f4": {
      "model_module": "@jupyter-widgets/controls",
      "model_module_version": "1.5.0",
      "model_name": "DescriptionStyleModel",
      "state": {
       "description_width": ""
      }
     }
    },
    "version_major": 2,
    "version_minor": 0
   }
  }
 },
 "nbformat": 4,
 "nbformat_minor": 4
}
